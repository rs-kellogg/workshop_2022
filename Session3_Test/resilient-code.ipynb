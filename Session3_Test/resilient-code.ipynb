{
 "cells": [
  {
   "cell_type": "markdown",
   "metadata": {
    "pycharm": {
     "name": "#%% md\n"
    },
    "slideshow": {
     "slide_type": "slide"
    }
   },
   "source": [
    "# <span style=\"color:purple\">Resilient Code</span>\n",
    "\n",
    "## <span style=\"color:purple\">Ph.D. Workshop - Session 3</span>\n",
    "\n",
    "\n",
    "## July 15, 2022"
   ]
  },
  {
   "cell_type": "markdown",
   "metadata": {
    "pycharm": {
     "name": "#%% md\n"
    },
    "slideshow": {
     "slide_type": "slide"
    }
   },
   "source": [
    "# <span style=\"color:purple\">What is code resilience?</span>\n",
    "<br>"
   ]
  },
  {
   "cell_type": "markdown",
   "metadata": {
    "pycharm": {
     "name": "#%% md\n"
    },
    "slideshow": {
     "slide_type": "fragment"
    }
   },
   "source": [
    "<span style=\"color:purple\">Code that is capable of performing without failure (or at least failing gracefully) under a wide range of conditions. Code must handle:\n",
    "</span>\n",
    "<br>"
   ]
  },
  {
   "cell_type": "markdown",
   "metadata": {
    "pycharm": {
     "name": "#%% md\n"
    },
    "slideshow": {
     "slide_type": "fragment"
    }
   },
   "source": [
    "* unexpected inputs"
   ]
  },
  {
   "cell_type": "markdown",
   "metadata": {
    "pycharm": {
     "name": "#%% md\n"
    },
    "slideshow": {
     "slide_type": "fragment"
    }
   },
   "source": [
    "* unexpected events"
   ]
  },
  {
   "cell_type": "markdown",
   "metadata": {
    "pycharm": {
     "name": "#%% md\n"
    },
    "slideshow": {
     "slide_type": "fragment"
    }
   },
   "source": [
    "* making it possible to add new features"
   ]
  },
  {
   "cell_type": "markdown",
   "metadata": {
    "pycharm": {
     "name": "#%% md\n"
    },
    "slideshow": {
     "slide_type": "fragment"
    }
   },
   "source": [
    "* making it possible to fix bugs"
   ]
  },
  {
   "cell_type": "markdown",
   "metadata": {
    "slideshow": {
     "slide_type": "slide"
    }
   },
   "source": [
    "# <span style=\"color:purple\">Topics</span>\n",
    "<br>\n",
    "\n",
    "1. Creating Environments\n",
    "2. Writing Clean Code\n",
    "3. Handling Errors and Exceptions\n",
    "4. Writing Tests"
   ]
  },
  {
   "cell_type": "markdown",
   "metadata": {
    "pycharm": {
     "name": "#%% md\n"
    },
    "slideshow": {
     "slide_type": "slide"
    }
   },
   "source": [
    "# <span style=\"color:purple\">1. Creating Environments</span>\n",
    "<br>\n",
    "<center><img src=\"figures/conda-envs.png\" width=\"40%\" style='border:5px solid #000000'/></center>\n"
   ]
  },
  {
   "cell_type": "markdown",
   "metadata": {
    "pycharm": {
     "name": "#%% md\n"
    },
    "slideshow": {
     "slide_type": "slide"
    }
   },
   "source": [
    "# <span style=\"color:purple\">Containers</span>\n",
    "<br>\n",
    "<center><img src=\"figures/docker.png\" width=\"40%\" style='border:5px solid #000000'/></center>"
   ]
  },
  {
   "cell_type": "markdown",
   "metadata": {
    "pycharm": {
     "name": "#%% md\n"
    },
    "slideshow": {
     "slide_type": "slide"
    }
   },
   "source": [
    "# <span style=\"color:purple\">2: Writing Clean Code</span>\n",
    "<!-- <center><img src=\"figures/hoare.jpg\" width=\"30%\" style='border:5px solid #000000'/></center>\n",
    " -->\n",
    "\n",
    "<table><tr>\n",
    "<td> <img src=\"figures/good_code.png\" style=\"width: 300px;\"/> </td>\n",
    "<td> <img src=\"figures/spaghetti.jpg\" style=\"width: 500px\"/> </td>\n",
    "</tr></table>\n",
    "\n",
    "<span style=\"color:darkblue\">There are two ways of constructing a software design: One way is to make it so simple that there are obviously no deficiencies, and the other way is to make it so complicated that there are no obvious deficiencies. The first method is far more difficult. (C.A.R. Hoare)</span>"
   ]
  },
  {
   "cell_type": "markdown",
   "metadata": {
    "pycharm": {
     "name": "#%% md\n"
    },
    "slideshow": {
     "slide_type": "slide"
    }
   },
   "source": [
    "# <span style=\"color:purple\">Don't Repeat Yourself!</span>\n",
    "<br>\n",
    "\n",
    "<table><tr>\n",
    "<td> <img src=\"figures/keep-dry.jpg\" style=\"width: 500px;\"/> </td>\n",
    "</tr></table>\n"
   ]
  },
  {
   "cell_type": "code",
   "execution_count": 8,
   "metadata": {
    "slideshow": {
     "slide_type": "fragment"
    }
   },
   "outputs": [
    {
     "data": {
      "text/html": [
       "<pre style=\"white-space:pre;overflow-x:auto;line-height:normal;font-family:Menlo,'DejaVu Sans Mono',consolas,'Courier New',monospace\"><span style=\"font-weight: bold\">&lt;</span><span style=\"color: #ff00ff; text-decoration-color: #ff00ff; font-weight: bold\">SEC-DOCUMENT</span><span style=\"font-weight: bold\">&gt;</span><span style=\"color: #008080; text-decoration-color: #008080; font-weight: bold\">0001012975</span>-<span style=\"color: #008080; text-decoration-color: #008080; font-weight: bold\">17</span>-<span style=\"color: #008080; text-decoration-color: #008080; font-weight: bold\">000759.</span>txt : <span style=\"color: #008080; text-decoration-color: #008080; font-weight: bold\">20171017</span>\n",
       "<span style=\"font-weight: bold\">&lt;</span><span style=\"color: #ff00ff; text-decoration-color: #ff00ff; font-weight: bold\">SEC-HEADER</span><span style=\"font-weight: bold\">&gt;</span><span style=\"color: #008080; text-decoration-color: #008080; font-weight: bold\">0001012975</span>-<span style=\"color: #008080; text-decoration-color: #008080; font-weight: bold\">17</span>-<span style=\"color: #008080; text-decoration-color: #008080; font-weight: bold\">000759.</span>hdr.sgml : <span style=\"color: #008080; text-decoration-color: #008080; font-weight: bold\">20171017</span>\n",
       "<span style=\"font-weight: bold\">&lt;</span><span style=\"color: #ff00ff; text-decoration-color: #ff00ff; font-weight: bold\">ACCEPTANCE-DATETIME</span><span style=\"font-weight: bold\">&gt;</span><span style=\"color: #008080; text-decoration-color: #008080; font-weight: bold\">20171017200436</span>\n",
       "ACCESSION NUMBER:               <span style=\"color: #008080; text-decoration-color: #008080; font-weight: bold\">0001012975</span>-<span style=\"color: #008080; text-decoration-color: #008080; font-weight: bold\">17</span>-<span style=\"color: #008080; text-decoration-color: #008080; font-weight: bold\">000759</span>\n",
       "CONFORMED SUBMISSION TYPE:      <span style=\"color: #008080; text-decoration-color: #008080; font-weight: bold\">4</span>\n",
       "PUBLIC DOCUMENT COUNT:          <span style=\"color: #008080; text-decoration-color: #008080; font-weight: bold\">1</span>\n",
       "CONFORMED PERIOD OF REPORT:     <span style=\"color: #008080; text-decoration-color: #008080; font-weight: bold\">20171013</span>\n",
       "FILED AS OF DATE:               <span style=\"color: #008080; text-decoration-color: #008080; font-weight: bold\">20171017</span>\n",
       "DATE AS OF CHANGE:              <span style=\"color: #008080; text-decoration-color: #008080; font-weight: bold\">20171017</span>\n",
       "\n",
       "REPORTING-OWNER:        \n",
       "\n",
       "        OWNER DATA:     \n",
       "                COMPANY CONFORMED NAME:                 Hodges Philip\n",
       "                CENTRAL INDEX KEY:                      <span style=\"color: #008080; text-decoration-color: #008080; font-weight: bold\">0001705562</span>\n",
       "\n",
       "        FILING VALUES:\n",
       "                FORM TYPE:              <span style=\"color: #008080; text-decoration-color: #008080; font-weight: bold\">4</span>\n",
       "                SEC ACT:                <span style=\"color: #008080; text-decoration-color: #008080; font-weight: bold\">1934</span> Act\n",
       "                SEC FILE NUMBER:        <span style=\"color: #008080; text-decoration-color: #008080; font-weight: bold\">001</span>-<span style=\"color: #008080; text-decoration-color: #008080; font-weight: bold\">32587</span>\n",
       "                FILM NUMBER:            <span style=\"color: #008080; text-decoration-color: #008080; font-weight: bold\">171141634</span>\n",
       "\n",
       "        MAIL ADDRESS:   \n",
       "                STREET <span style=\"color: #008080; text-decoration-color: #008080; font-weight: bold\">1</span>:               <span style=\"color: #008080; text-decoration-color: #008080; font-weight: bold\">19</span> FIRSTFIELD RD., SUITE <span style=\"color: #008080; text-decoration-color: #008080; font-weight: bold\">200</span>\n",
       "                CITY:                   GAITHERSBURG\n",
       "                STATE:                  MD\n",
       "                ZIP:                    <span style=\"color: #008080; text-decoration-color: #008080; font-weight: bold\">20878</span>\n",
       "\n",
       "REPORTING-OWNER:        \n",
       "\n",
       "        OWNER DATA:     \n",
       "                COMPANY CONFORMED NAME:                 Redmont VAXN Capital Holdings, LLC\n",
       "                CENTRAL INDEX KEY:                      <span style=\"color: #008080; text-decoration-color: #008080; font-weight: bold\">0001705638</span>\n",
       "                STATE OF INCORPORATION:                 DE\n",
       "                FISCAL YEAR END:                        <span style=\"color: #008080; text-decoration-color: #008080; font-weight: bold\">1231</span>\n",
       "\n",
       "        FILING VALUES:\n",
       "                FORM TYPE:              <span style=\"color: #008080; text-decoration-color: #008080; font-weight: bold\">4</span>\n",
       "                SEC ACT:                <span style=\"color: #008080; text-decoration-color: #008080; font-weight: bold\">1934</span> Act\n",
       "                SEC FILE NUMBER:        <span style=\"color: #008080; text-decoration-color: #008080; font-weight: bold\">001</span>-<span style=\"color: #008080; text-decoration-color: #008080; font-weight: bold\">32587</span>\n",
       "                FILM NUMBER:            <span style=\"color: #008080; text-decoration-color: #008080; font-weight: bold\">171141633</span>\n",
       "\n",
       "        BUSINESS ADDRESS:       \n",
       "                STREET <span style=\"color: #008080; text-decoration-color: #008080; font-weight: bold\">1</span>:               <span style=\"color: #008080; text-decoration-color: #008080; font-weight: bold\">820</span> SHADES CREEK PARKWAY, SUITE <span style=\"color: #008080; text-decoration-color: #008080; font-weight: bold\">1200</span>\n",
       "                CITY:                   BIRMINGHAM\n",
       "                STATE:                  AL\n",
       "                ZIP:                    <span style=\"color: #008080; text-decoration-color: #008080; font-weight: bold\">35209</span>\n",
       "                BUSINESS PHONE:         <span style=\"font-weight: bold\">(</span><span style=\"color: #008080; text-decoration-color: #008080; font-weight: bold\">240</span><span style=\"font-weight: bold\">)</span> <span style=\"color: #008080; text-decoration-color: #008080; font-weight: bold\">654</span>-<span style=\"color: #008080; text-decoration-color: #008080; font-weight: bold\">1450</span>\n",
       "\n",
       "        MAIL ADDRESS:   \n",
       "                STREET <span style=\"color: #008080; text-decoration-color: #008080; font-weight: bold\">1</span>:               <span style=\"color: #008080; text-decoration-color: #008080; font-weight: bold\">19</span> FIRSTFIELD RD., SUITE <span style=\"color: #008080; text-decoration-color: #008080; font-weight: bold\">200</span>\n",
       "                CITY:                   GAITHERSBURG\n",
       "                STATE:                  MD\n",
       "                ZIP:                    <span style=\"color: #008080; text-decoration-color: #008080; font-weight: bold\">20878</span>\n",
       "\n",
       "ISSUER:         \n",
       "\n",
       "        COMPANY DATA:   \n",
       "                COMPANY CONFORMED NAME:                 Altimmune, Inc.\n",
       "                CENTRAL INDEX KEY:                      <span style=\"color: #008080; text-decoration-color: #008080; font-weight: bold\">0001326190</span>\n",
       "                STANDARD INDUSTRIAL CLASSIFICATION:     PHARMACEUTICAL PREPARATIONS <span style=\"font-weight: bold\">[</span><span style=\"color: #008080; text-decoration-color: #008080; font-weight: bold\">2834</span><span style=\"font-weight: bold\">]</span>\n",
       "                IRS NUMBER:                             <span style=\"color: #008080; text-decoration-color: #008080; font-weight: bold\">202726770</span>\n",
       "                STATE OF INCORPORATION:                 DE\n",
       "                FISCAL YEAR END:                        <span style=\"color: #008080; text-decoration-color: #008080; font-weight: bold\">1231</span>\n",
       "\n",
       "        BUSINESS ADDRESS:       \n",
       "                STREET <span style=\"color: #008080; text-decoration-color: #008080; font-weight: bold\">1</span>:               <span style=\"color: #008080; text-decoration-color: #008080; font-weight: bold\">19</span> FIRSTFIELD ROAD\n",
       "                CITY:                   GAITHERSBURG\n",
       "                STATE:                  MD\n",
       "                ZIP:                    <span style=\"color: #008080; text-decoration-color: #008080; font-weight: bold\">20878</span>\n",
       "                BUSINESS PHONE:         <span style=\"color: #008080; text-decoration-color: #008080; font-weight: bold\">2406541450</span>\n",
       "\n",
       "        MAIL ADDRESS:   \n",
       "                STREET <span style=\"color: #008080; text-decoration-color: #008080; font-weight: bold\">1</span>:               <span style=\"color: #008080; text-decoration-color: #008080; font-weight: bold\">19</span> FIRSTFIELD ROAD\n",
       "                CITY:                   GAITHERSBURG\n",
       "                STATE:                  MD\n",
       "                ZIP:                    <span style=\"color: #008080; text-decoration-color: #008080; font-weight: bold\">20878</span>\n",
       "\n",
       "        FORMER COMPANY: \n",
       "                FORMER CONFORMED NAME:  PHARMATHENE, INC\n",
       "                DATE OF NAME CHANGE:    <span style=\"color: #008080; text-decoration-color: #008080; font-weight: bold\">20071016</span>\n",
       "\n",
       "        FORMER COMPANY: \n",
       "                FORMER CONFORMED NAME:  HEALTHCARE ACQUISITION CORP\n",
       "                DATE OF NAME CHANGE:    <span style=\"color: #008080; text-decoration-color: #008080; font-weight: bold\">20050505</span>\n",
       "<span style=\"font-weight: bold\">&lt;</span><span style=\"color: #800080; text-decoration-color: #800080\">/</span><span style=\"color: #ff00ff; text-decoration-color: #ff00ff\">SEC-HEADER</span><span style=\"font-weight: bold\">&gt;</span>\n",
       "<span style=\"font-weight: bold\">&lt;</span><span style=\"color: #ff00ff; text-decoration-color: #ff00ff; font-weight: bold\">DOCUMENT</span><span style=\"font-weight: bold\">&gt;</span>\n",
       "<span style=\"font-weight: bold\">&lt;</span><span style=\"color: #ff00ff; text-decoration-color: #ff00ff; font-weight: bold\">TYPE</span><span style=\"font-weight: bold\">&gt;</span><span style=\"color: #008080; text-decoration-color: #008080; font-weight: bold\">4</span>\n",
       "<span style=\"font-weight: bold\">&lt;</span><span style=\"color: #ff00ff; text-decoration-color: #ff00ff; font-weight: bold\">SEQUENCE</span><span style=\"font-weight: bold\">&gt;</span><span style=\"color: #008080; text-decoration-color: #008080; font-weight: bold\">1</span>\n",
       "<span style=\"font-weight: bold\">&lt;</span><span style=\"color: #ff00ff; text-decoration-color: #ff00ff; font-weight: bold\">FILENAME</span><span style=\"font-weight: bold\">&gt;</span>edgar.xml\n",
       "<span style=\"font-weight: bold\">&lt;</span><span style=\"color: #ff00ff; text-decoration-color: #ff00ff; font-weight: bold\">DESCRIPTION</span><span style=\"font-weight: bold\">&gt;</span>PRIMARY DOCUMENT\n",
       "<span style=\"font-weight: bold\">&lt;</span><span style=\"color: #ff00ff; text-decoration-color: #ff00ff; font-weight: bold\">TEXT</span><span style=\"font-weight: bold\">&gt;</span>\n",
       "<span style=\"font-weight: bold\">&lt;</span><span style=\"color: #ff00ff; text-decoration-color: #ff00ff; font-weight: bold\">XML</span><span style=\"font-weight: bold\">&gt;</span>\n",
       "<span style=\"font-weight: bold\">&lt;</span><span style=\"color: #000000; text-decoration-color: #000000\">?xml </span><span style=\"color: #808000; text-decoration-color: #808000\">version</span><span style=\"color: #000000; text-decoration-color: #000000\">=</span><span style=\"color: #008000; text-decoration-color: #008000\">\"1.0\"</span><span style=\"color: #000000; text-decoration-color: #000000\">?</span><span style=\"font-weight: bold\">&gt;</span>\n",
       "<span style=\"font-weight: bold\">&lt;</span><span style=\"color: #ff00ff; text-decoration-color: #ff00ff; font-weight: bold\">ownershipDocument</span><span style=\"font-weight: bold\">&gt;</span>\n",
       "\n",
       "    <span style=\"font-weight: bold\">&lt;</span><span style=\"color: #ff00ff; text-decoration-color: #ff00ff; font-weight: bold\">schemaVersion</span><span style=\"font-weight: bold\">&gt;</span>X0306<span style=\"font-weight: bold\">&lt;</span><span style=\"color: #800080; text-decoration-color: #800080\">/</span><span style=\"color: #ff00ff; text-decoration-color: #ff00ff\">schemaVersion</span><span style=\"font-weight: bold\">&gt;</span>\n",
       "\n",
       "    <span style=\"font-weight: bold\">&lt;</span><span style=\"color: #ff00ff; text-decoration-color: #ff00ff; font-weight: bold\">documentType</span><span style=\"font-weight: bold\">&gt;</span><span style=\"color: #008080; text-decoration-color: #008080; font-weight: bold\">4</span><span style=\"font-weight: bold\">&lt;</span><span style=\"color: #800080; text-decoration-color: #800080\">/</span><span style=\"color: #ff00ff; text-decoration-color: #ff00ff\">documentType</span><span style=\"font-weight: bold\">&gt;</span>\n",
       "\n",
       "    <span style=\"font-weight: bold\">&lt;</span><span style=\"color: #ff00ff; text-decoration-color: #ff00ff; font-weight: bold\">periodOfReport</span><span style=\"font-weight: bold\">&gt;</span><span style=\"color: #008080; text-decoration-color: #008080; font-weight: bold\">2017</span>-<span style=\"color: #008080; text-decoration-color: #008080; font-weight: bold\">10</span>-<span style=\"color: #008080; text-decoration-color: #008080; font-weight: bold\">13</span><span style=\"font-weight: bold\">&lt;</span><span style=\"color: #800080; text-decoration-color: #800080\">/</span><span style=\"color: #ff00ff; text-decoration-color: #ff00ff\">periodOfReport</span><span style=\"font-weight: bold\">&gt;</span>\n",
       "\n",
       "    <span style=\"font-weight: bold\">&lt;</span><span style=\"color: #ff00ff; text-decoration-color: #ff00ff; font-weight: bold\">issuer</span><span style=\"font-weight: bold\">&gt;</span>\n",
       "        <span style=\"font-weight: bold\">&lt;</span><span style=\"color: #ff00ff; text-decoration-color: #ff00ff; font-weight: bold\">issuerCik</span><span style=\"font-weight: bold\">&gt;</span><span style=\"color: #008080; text-decoration-color: #008080; font-weight: bold\">0001326190</span><span style=\"font-weight: bold\">&lt;</span><span style=\"color: #800080; text-decoration-color: #800080\">/</span><span style=\"color: #ff00ff; text-decoration-color: #ff00ff\">issuerCik</span><span style=\"font-weight: bold\">&gt;</span>\n",
       "        <span style=\"font-weight: bold\">&lt;</span><span style=\"color: #ff00ff; text-decoration-color: #ff00ff; font-weight: bold\">issuerName</span><span style=\"font-weight: bold\">&gt;</span>Altimmune, Inc.<span style=\"font-weight: bold\">&lt;</span><span style=\"color: #800080; text-decoration-color: #800080\">/</span><span style=\"color: #ff00ff; text-decoration-color: #ff00ff\">issuerName</span><span style=\"font-weight: bold\">&gt;</span>\n",
       "        <span style=\"font-weight: bold\">&lt;</span><span style=\"color: #ff00ff; text-decoration-color: #ff00ff; font-weight: bold\">issuerTradingSymbol</span><span style=\"font-weight: bold\">&gt;</span>ALT<span style=\"font-weight: bold\">&lt;</span><span style=\"color: #800080; text-decoration-color: #800080\">/</span><span style=\"color: #ff00ff; text-decoration-color: #ff00ff\">issuerTradingSymbol</span><span style=\"font-weight: bold\">&gt;</span>\n",
       "    <span style=\"font-weight: bold\">&lt;</span><span style=\"color: #800080; text-decoration-color: #800080\">/</span><span style=\"color: #ff00ff; text-decoration-color: #ff00ff\">issuer</span><span style=\"font-weight: bold\">&gt;</span>\n",
       "\n",
       "    <span style=\"font-weight: bold\">&lt;</span><span style=\"color: #ff00ff; text-decoration-color: #ff00ff; font-weight: bold\">reportingOwner</span><span style=\"font-weight: bold\">&gt;</span>\n",
       "        <span style=\"font-weight: bold\">&lt;</span><span style=\"color: #ff00ff; text-decoration-color: #ff00ff; font-weight: bold\">reportingOwnerId</span><span style=\"font-weight: bold\">&gt;</span>\n",
       "            <span style=\"font-weight: bold\">&lt;</span><span style=\"color: #ff00ff; text-decoration-color: #ff00ff; font-weight: bold\">rptOwnerCik</span><span style=\"font-weight: bold\">&gt;</span><span style=\"color: #008080; text-decoration-color: #008080; font-weight: bold\">0001705562</span><span style=\"font-weight: bold\">&lt;</span><span style=\"color: #800080; text-decoration-color: #800080\">/</span><span style=\"color: #ff00ff; text-decoration-color: #ff00ff\">rptOwnerCik</span><span style=\"font-weight: bold\">&gt;</span>\n",
       "            <span style=\"font-weight: bold\">&lt;</span><span style=\"color: #ff00ff; text-decoration-color: #ff00ff; font-weight: bold\">rptOwnerName</span><span style=\"font-weight: bold\">&gt;</span>Hodges Philip<span style=\"font-weight: bold\">&lt;</span><span style=\"color: #800080; text-decoration-color: #800080\">/</span><span style=\"color: #ff00ff; text-decoration-color: #ff00ff\">rptOwnerName</span><span style=\"font-weight: bold\">&gt;</span>\n",
       "        <span style=\"font-weight: bold\">&lt;</span><span style=\"color: #800080; text-decoration-color: #800080\">/</span><span style=\"color: #ff00ff; text-decoration-color: #ff00ff\">reportingOwnerId</span><span style=\"font-weight: bold\">&gt;</span>\n",
       "        <span style=\"font-weight: bold\">&lt;</span><span style=\"color: #ff00ff; text-decoration-color: #ff00ff; font-weight: bold\">reportingOwnerAddress</span><span style=\"font-weight: bold\">&gt;</span>\n",
       "            <span style=\"font-weight: bold\">&lt;</span><span style=\"color: #ff00ff; text-decoration-color: #ff00ff; font-weight: bold\">rptOwnerStreet1</span><span style=\"font-weight: bold\">&gt;</span>C/O ALTIMMUNE, INC.<span style=\"font-weight: bold\">&lt;</span><span style=\"color: #800080; text-decoration-color: #800080\">/</span><span style=\"color: #ff00ff; text-decoration-color: #ff00ff\">rptOwnerStreet1</span><span style=\"font-weight: bold\">&gt;</span>\n",
       "            <span style=\"font-weight: bold\">&lt;</span><span style=\"color: #ff00ff; text-decoration-color: #ff00ff; font-weight: bold\">rptOwnerStreet2</span><span style=\"font-weight: bold\">&gt;</span><span style=\"color: #008080; text-decoration-color: #008080; font-weight: bold\">19</span> FIRSTFIELD ROAD, SUITE <span style=\"color: #008080; text-decoration-color: #008080; font-weight: bold\">200</span><span style=\"font-weight: bold\">&lt;</span><span style=\"color: #800080; text-decoration-color: #800080\">/</span><span style=\"color: #ff00ff; text-decoration-color: #ff00ff\">rptOwnerStreet2</span><span style=\"font-weight: bold\">&gt;</span>\n",
       "            <span style=\"font-weight: bold\">&lt;</span><span style=\"color: #ff00ff; text-decoration-color: #ff00ff; font-weight: bold\">rptOwnerCity</span><span style=\"font-weight: bold\">&gt;</span>GAITHERSBURG<span style=\"font-weight: bold\">&lt;</span><span style=\"color: #800080; text-decoration-color: #800080\">/</span><span style=\"color: #ff00ff; text-decoration-color: #ff00ff\">rptOwnerCity</span><span style=\"font-weight: bold\">&gt;</span>\n",
       "            <span style=\"font-weight: bold\">&lt;</span><span style=\"color: #ff00ff; text-decoration-color: #ff00ff; font-weight: bold\">rptOwnerState</span><span style=\"font-weight: bold\">&gt;</span>MD<span style=\"font-weight: bold\">&lt;</span><span style=\"color: #800080; text-decoration-color: #800080\">/</span><span style=\"color: #ff00ff; text-decoration-color: #ff00ff\">rptOwnerState</span><span style=\"font-weight: bold\">&gt;</span>\n",
       "            <span style=\"font-weight: bold\">&lt;</span><span style=\"color: #ff00ff; text-decoration-color: #ff00ff; font-weight: bold\">rptOwnerZipCode</span><span style=\"font-weight: bold\">&gt;</span><span style=\"color: #008080; text-decoration-color: #008080; font-weight: bold\">20878</span><span style=\"font-weight: bold\">&lt;</span><span style=\"color: #800080; text-decoration-color: #800080\">/</span><span style=\"color: #ff00ff; text-decoration-color: #ff00ff\">rptOwnerZipCode</span><span style=\"font-weight: bold\">&gt;</span>\n",
       "            <span style=\"font-weight: bold\">&lt;</span><span style=\"color: #ff00ff; text-decoration-color: #ff00ff; font-weight: bold\">rptOwnerStateDescription</span><span style=\"font-weight: bold\">&gt;&lt;</span><span style=\"color: #800080; text-decoration-color: #800080\">/</span><span style=\"color: #ff00ff; text-decoration-color: #ff00ff\">rptOwnerStateDescription</span><span style=\"font-weight: bold\">&gt;</span>\n",
       "        <span style=\"font-weight: bold\">&lt;</span><span style=\"color: #800080; text-decoration-color: #800080\">/</span><span style=\"color: #ff00ff; text-decoration-color: #ff00ff\">reportingOwnerAddress</span><span style=\"font-weight: bold\">&gt;</span>\n",
       "        <span style=\"font-weight: bold\">&lt;</span><span style=\"color: #ff00ff; text-decoration-color: #ff00ff; font-weight: bold\">reportingOwnerRelationship</span><span style=\"font-weight: bold\">&gt;</span>\n",
       "            <span style=\"font-weight: bold\">&lt;</span><span style=\"color: #ff00ff; text-decoration-color: #ff00ff; font-weight: bold\">isDirector</span><span style=\"font-weight: bold\">&gt;</span><span style=\"color: #008080; text-decoration-color: #008080; font-weight: bold\">1</span><span style=\"font-weight: bold\">&lt;</span><span style=\"color: #800080; text-decoration-color: #800080\">/</span><span style=\"color: #ff00ff; text-decoration-color: #ff00ff\">isDirector</span><span style=\"font-weight: bold\">&gt;</span>\n",
       "            <span style=\"font-weight: bold\">&lt;</span><span style=\"color: #ff00ff; text-decoration-color: #ff00ff; font-weight: bold\">isOfficer</span><span style=\"font-weight: bold\">&gt;</span><span style=\"color: #008080; text-decoration-color: #008080; font-weight: bold\">0</span><span style=\"font-weight: bold\">&lt;</span><span style=\"color: #800080; text-decoration-color: #800080\">/</span><span style=\"color: #ff00ff; text-decoration-color: #ff00ff\">isOfficer</span><span style=\"font-weight: bold\">&gt;</span>\n",
       "            <span style=\"font-weight: bold\">&lt;</span><span style=\"color: #ff00ff; text-decoration-color: #ff00ff; font-weight: bold\">isTenPercentOwner</span><span style=\"font-weight: bold\">&gt;</span><span style=\"color: #008080; text-decoration-color: #008080; font-weight: bold\">0</span><span style=\"font-weight: bold\">&lt;</span><span style=\"color: #800080; text-decoration-color: #800080\">/</span><span style=\"color: #ff00ff; text-decoration-color: #ff00ff\">isTenPercentOwner</span><span style=\"font-weight: bold\">&gt;</span>\n",
       "            <span style=\"font-weight: bold\">&lt;</span><span style=\"color: #ff00ff; text-decoration-color: #ff00ff; font-weight: bold\">isOther</span><span style=\"font-weight: bold\">&gt;</span><span style=\"color: #008080; text-decoration-color: #008080; font-weight: bold\">0</span><span style=\"font-weight: bold\">&lt;</span><span style=\"color: #800080; text-decoration-color: #800080\">/</span><span style=\"color: #ff00ff; text-decoration-color: #ff00ff\">isOther</span><span style=\"font-weight: bold\">&gt;</span>\n",
       "        <span style=\"font-weight: bold\">&lt;</span><span style=\"color: #800080; text-decoration-color: #800080\">/</span><span style=\"color: #ff00ff; text-decoration-color: #ff00ff\">reportingOwnerRelationship</span><span style=\"font-weight: bold\">&gt;</span>\n",
       "    <span style=\"font-weight: bold\">&lt;</span><span style=\"color: #800080; text-decoration-color: #800080\">/</span><span style=\"color: #ff00ff; text-decoration-color: #ff00ff\">reportingOwner</span><span style=\"font-weight: bold\">&gt;</span>\n",
       "\n",
       "    <span style=\"font-weight: bold\">&lt;</span><span style=\"color: #ff00ff; text-decoration-color: #ff00ff; font-weight: bold\">reportingOwner</span><span style=\"font-weight: bold\">&gt;</span>\n",
       "        <span style=\"font-weight: bold\">&lt;</span><span style=\"color: #ff00ff; text-decoration-color: #ff00ff; font-weight: bold\">reportingOwnerId</span><span style=\"font-weight: bold\">&gt;</span>\n",
       "            <span style=\"font-weight: bold\">&lt;</span><span style=\"color: #ff00ff; text-decoration-color: #ff00ff; font-weight: bold\">rptOwnerCik</span><span style=\"font-weight: bold\">&gt;</span><span style=\"color: #008080; text-decoration-color: #008080; font-weight: bold\">0001705638</span><span style=\"font-weight: bold\">&lt;</span><span style=\"color: #800080; text-decoration-color: #800080\">/</span><span style=\"color: #ff00ff; text-decoration-color: #ff00ff\">rptOwnerCik</span><span style=\"font-weight: bold\">&gt;</span>\n",
       "            <span style=\"font-weight: bold\">&lt;</span><span style=\"color: #ff00ff; text-decoration-color: #ff00ff; font-weight: bold\">rptOwnerName</span><span style=\"font-weight: bold\">&gt;</span>Redmont VAXN Capital Holdings, LLC<span style=\"font-weight: bold\">&lt;</span><span style=\"color: #800080; text-decoration-color: #800080\">/</span><span style=\"color: #ff00ff; text-decoration-color: #ff00ff\">rptOwnerName</span><span style=\"font-weight: bold\">&gt;</span>\n",
       "        <span style=\"font-weight: bold\">&lt;</span><span style=\"color: #800080; text-decoration-color: #800080\">/</span><span style=\"color: #ff00ff; text-decoration-color: #ff00ff\">reportingOwnerId</span><span style=\"font-weight: bold\">&gt;</span>\n",
       "        <span style=\"font-weight: bold\">&lt;</span><span style=\"color: #ff00ff; text-decoration-color: #ff00ff; font-weight: bold\">reportingOwnerAddress</span><span style=\"font-weight: bold\">&gt;</span>\n",
       "            <span style=\"font-weight: bold\">&lt;</span><span style=\"color: #ff00ff; text-decoration-color: #ff00ff; font-weight: bold\">rptOwnerStreet1</span><span style=\"font-weight: bold\">&gt;</span>C/O ALTIMMUNE, INC.<span style=\"font-weight: bold\">&lt;</span><span style=\"color: #800080; text-decoration-color: #800080\">/</span><span style=\"color: #ff00ff; text-decoration-color: #ff00ff\">rptOwnerStreet1</span><span style=\"font-weight: bold\">&gt;</span>\n",
       "            <span style=\"font-weight: bold\">&lt;</span><span style=\"color: #ff00ff; text-decoration-color: #ff00ff; font-weight: bold\">rptOwnerStreet2</span><span style=\"font-weight: bold\">&gt;</span><span style=\"color: #008080; text-decoration-color: #008080; font-weight: bold\">19</span> FIRSTFIELD ROAD, SUITE <span style=\"color: #008080; text-decoration-color: #008080; font-weight: bold\">200</span><span style=\"font-weight: bold\">&lt;</span><span style=\"color: #800080; text-decoration-color: #800080\">/</span><span style=\"color: #ff00ff; text-decoration-color: #ff00ff\">rptOwnerStreet2</span><span style=\"font-weight: bold\">&gt;</span>\n",
       "            <span style=\"font-weight: bold\">&lt;</span><span style=\"color: #ff00ff; text-decoration-color: #ff00ff; font-weight: bold\">rptOwnerCity</span><span style=\"font-weight: bold\">&gt;</span>GAITHERSBURG<span style=\"font-weight: bold\">&lt;</span><span style=\"color: #800080; text-decoration-color: #800080\">/</span><span style=\"color: #ff00ff; text-decoration-color: #ff00ff\">rptOwnerCity</span><span style=\"font-weight: bold\">&gt;</span>\n",
       "            <span style=\"font-weight: bold\">&lt;</span><span style=\"color: #ff00ff; text-decoration-color: #ff00ff; font-weight: bold\">rptOwnerState</span><span style=\"font-weight: bold\">&gt;</span>MD<span style=\"font-weight: bold\">&lt;</span><span style=\"color: #800080; text-decoration-color: #800080\">/</span><span style=\"color: #ff00ff; text-decoration-color: #ff00ff\">rptOwnerState</span><span style=\"font-weight: bold\">&gt;</span>\n",
       "            <span style=\"font-weight: bold\">&lt;</span><span style=\"color: #ff00ff; text-decoration-color: #ff00ff; font-weight: bold\">rptOwnerZipCode</span><span style=\"font-weight: bold\">&gt;</span><span style=\"color: #008080; text-decoration-color: #008080; font-weight: bold\">20878</span><span style=\"font-weight: bold\">&lt;</span><span style=\"color: #800080; text-decoration-color: #800080\">/</span><span style=\"color: #ff00ff; text-decoration-color: #ff00ff\">rptOwnerZipCode</span><span style=\"font-weight: bold\">&gt;</span>\n",
       "            <span style=\"font-weight: bold\">&lt;</span><span style=\"color: #ff00ff; text-decoration-color: #ff00ff; font-weight: bold\">rptOwnerStateDescription</span><span style=\"font-weight: bold\">&gt;&lt;</span><span style=\"color: #800080; text-decoration-color: #800080\">/</span><span style=\"color: #ff00ff; text-decoration-color: #ff00ff\">rptOwnerStateDescription</span><span style=\"font-weight: bold\">&gt;</span>\n",
       "        <span style=\"font-weight: bold\">&lt;</span><span style=\"color: #800080; text-decoration-color: #800080\">/</span><span style=\"color: #ff00ff; text-decoration-color: #ff00ff\">reportingOwnerAddress</span><span style=\"font-weight: bold\">&gt;</span>\n",
       "        <span style=\"font-weight: bold\">&lt;</span><span style=\"color: #ff00ff; text-decoration-color: #ff00ff; font-weight: bold\">reportingOwnerRelationship</span><span style=\"font-weight: bold\">&gt;</span>\n",
       "            <span style=\"font-weight: bold\">&lt;</span><span style=\"color: #ff00ff; text-decoration-color: #ff00ff; font-weight: bold\">isDirector</span><span style=\"font-weight: bold\">&gt;</span><span style=\"color: #008080; text-decoration-color: #008080; font-weight: bold\">1</span><span style=\"font-weight: bold\">&lt;</span><span style=\"color: #800080; text-decoration-color: #800080\">/</span><span style=\"color: #ff00ff; text-decoration-color: #ff00ff\">isDirector</span><span style=\"font-weight: bold\">&gt;</span>\n",
       "            <span style=\"font-weight: bold\">&lt;</span><span style=\"color: #ff00ff; text-decoration-color: #ff00ff; font-weight: bold\">isOfficer</span><span style=\"font-weight: bold\">&gt;</span><span style=\"color: #008080; text-decoration-color: #008080; font-weight: bold\">0</span><span style=\"font-weight: bold\">&lt;</span><span style=\"color: #800080; text-decoration-color: #800080\">/</span><span style=\"color: #ff00ff; text-decoration-color: #ff00ff\">isOfficer</span><span style=\"font-weight: bold\">&gt;</span>\n",
       "            <span style=\"font-weight: bold\">&lt;</span><span style=\"color: #ff00ff; text-decoration-color: #ff00ff; font-weight: bold\">isTenPercentOwner</span><span style=\"font-weight: bold\">&gt;</span><span style=\"color: #008080; text-decoration-color: #008080; font-weight: bold\">0</span><span style=\"font-weight: bold\">&lt;</span><span style=\"color: #800080; text-decoration-color: #800080\">/</span><span style=\"color: #ff00ff; text-decoration-color: #ff00ff\">isTenPercentOwner</span><span style=\"font-weight: bold\">&gt;</span>\n",
       "            <span style=\"font-weight: bold\">&lt;</span><span style=\"color: #ff00ff; text-decoration-color: #ff00ff; font-weight: bold\">isOther</span><span style=\"font-weight: bold\">&gt;</span><span style=\"color: #008080; text-decoration-color: #008080; font-weight: bold\">0</span><span style=\"font-weight: bold\">&lt;</span><span style=\"color: #800080; text-decoration-color: #800080\">/</span><span style=\"color: #ff00ff; text-decoration-color: #ff00ff\">isOther</span><span style=\"font-weight: bold\">&gt;</span>\n",
       "        <span style=\"font-weight: bold\">&lt;</span><span style=\"color: #800080; text-decoration-color: #800080\">/</span><span style=\"color: #ff00ff; text-decoration-color: #ff00ff\">reportingOwnerRelationship</span><span style=\"font-weight: bold\">&gt;</span>\n",
       "    <span style=\"font-weight: bold\">&lt;</span><span style=\"color: #800080; text-decoration-color: #800080\">/</span><span style=\"color: #ff00ff; text-decoration-color: #ff00ff\">reportingOwner</span><span style=\"font-weight: bold\">&gt;</span>\n",
       "\n",
       "    <span style=\"font-weight: bold\">&lt;</span><span style=\"color: #ff00ff; text-decoration-color: #ff00ff; font-weight: bold\">nonDerivativeTable</span><span style=\"font-weight: bold\">&gt;</span>\n",
       "        <span style=\"font-weight: bold\">&lt;</span><span style=\"color: #ff00ff; text-decoration-color: #ff00ff; font-weight: bold\">nonDerivativeTransaction</span><span style=\"font-weight: bold\">&gt;</span>\n",
       "            <span style=\"font-weight: bold\">&lt;</span><span style=\"color: #ff00ff; text-decoration-color: #ff00ff; font-weight: bold\">securityTitle</span><span style=\"font-weight: bold\">&gt;</span>\n",
       "                <span style=\"font-weight: bold\">&lt;</span><span style=\"color: #ff00ff; text-decoration-color: #ff00ff; font-weight: bold\">value</span><span style=\"font-weight: bold\">&gt;</span>Common Stock, par value $<span style=\"color: #008080; text-decoration-color: #008080; font-weight: bold\">0.0001</span><span style=\"font-weight: bold\">&lt;</span><span style=\"color: #800080; text-decoration-color: #800080\">/</span><span style=\"color: #ff00ff; text-decoration-color: #ff00ff\">value</span><span style=\"font-weight: bold\">&gt;</span>\n",
       "            <span style=\"font-weight: bold\">&lt;</span><span style=\"color: #800080; text-decoration-color: #800080\">/</span><span style=\"color: #ff00ff; text-decoration-color: #ff00ff\">securityTitle</span><span style=\"font-weight: bold\">&gt;</span>\n",
       "            <span style=\"font-weight: bold\">&lt;</span><span style=\"color: #ff00ff; text-decoration-color: #ff00ff; font-weight: bold\">transactionDate</span><span style=\"font-weight: bold\">&gt;</span>\n",
       "                <span style=\"font-weight: bold\">&lt;</span><span style=\"color: #ff00ff; text-decoration-color: #ff00ff; font-weight: bold\">value</span><span style=\"font-weight: bold\">&gt;</span><span style=\"color: #008080; text-decoration-color: #008080; font-weight: bold\">2017</span>-<span style=\"color: #008080; text-decoration-color: #008080; font-weight: bold\">10</span>-<span style=\"color: #008080; text-decoration-color: #008080; font-weight: bold\">17</span><span style=\"font-weight: bold\">&lt;</span><span style=\"color: #800080; text-decoration-color: #800080\">/</span><span style=\"color: #ff00ff; text-decoration-color: #ff00ff\">value</span><span style=\"font-weight: bold\">&gt;</span>\n",
       "            <span style=\"font-weight: bold\">&lt;</span><span style=\"color: #800080; text-decoration-color: #800080\">/</span><span style=\"color: #ff00ff; text-decoration-color: #ff00ff\">transactionDate</span><span style=\"font-weight: bold\">&gt;</span>\n",
       "            <span style=\"font-weight: bold\">&lt;</span><span style=\"color: #ff00ff; text-decoration-color: #ff00ff; font-weight: bold\">transactionCoding</span><span style=\"font-weight: bold\">&gt;</span>\n",
       "                <span style=\"font-weight: bold\">&lt;</span><span style=\"color: #ff00ff; text-decoration-color: #ff00ff; font-weight: bold\">transactionFormType</span><span style=\"font-weight: bold\">&gt;</span><span style=\"color: #008080; text-decoration-color: #008080; font-weight: bold\">4</span><span style=\"font-weight: bold\">&lt;</span><span style=\"color: #800080; text-decoration-color: #800080\">/</span><span style=\"color: #ff00ff; text-decoration-color: #ff00ff\">transactionFormType</span><span style=\"font-weight: bold\">&gt;</span>\n",
       "                <span style=\"font-weight: bold\">&lt;</span><span style=\"color: #ff00ff; text-decoration-color: #ff00ff; font-weight: bold\">transactionCode</span><span style=\"font-weight: bold\">&gt;</span>J<span style=\"font-weight: bold\">&lt;</span><span style=\"color: #800080; text-decoration-color: #800080\">/</span><span style=\"color: #ff00ff; text-decoration-color: #ff00ff\">transactionCode</span><span style=\"font-weight: bold\">&gt;</span>\n",
       "                <span style=\"font-weight: bold\">&lt;</span><span style=\"color: #ff00ff; text-decoration-color: #ff00ff; font-weight: bold\">equitySwapInvolved</span><span style=\"font-weight: bold\">&gt;</span><span style=\"color: #008080; text-decoration-color: #008080; font-weight: bold\">0</span><span style=\"font-weight: bold\">&lt;</span><span style=\"color: #800080; text-decoration-color: #800080\">/</span><span style=\"color: #ff00ff; text-decoration-color: #ff00ff\">equitySwapInvolved</span><span style=\"font-weight: bold\">&gt;</span>\n",
       "                <span style=\"font-weight: bold\">&lt;</span><span style=\"color: #ff00ff; text-decoration-color: #ff00ff; font-weight: bold\">footnoteId</span><span style=\"color: #000000; text-decoration-color: #000000\"> </span><span style=\"color: #808000; text-decoration-color: #808000\">id</span><span style=\"color: #000000; text-decoration-color: #000000\">=</span><span style=\"color: #008000; text-decoration-color: #008000\">\"F1\"</span><span style=\"color: #800080; text-decoration-color: #800080\">/</span><span style=\"font-weight: bold\">&gt;</span>\n",
       "            <span style=\"font-weight: bold\">&lt;</span><span style=\"color: #800080; text-decoration-color: #800080\">/</span><span style=\"color: #ff00ff; text-decoration-color: #ff00ff\">transactionCoding</span><span style=\"font-weight: bold\">&gt;</span>\n",
       "            <span style=\"font-weight: bold\">&lt;</span><span style=\"color: #ff00ff; text-decoration-color: #ff00ff; font-weight: bold\">transactionAmounts</span><span style=\"font-weight: bold\">&gt;</span>\n",
       "                <span style=\"font-weight: bold\">&lt;</span><span style=\"color: #ff00ff; text-decoration-color: #ff00ff; font-weight: bold\">transactionShares</span><span style=\"font-weight: bold\">&gt;</span>\n",
       "                    <span style=\"font-weight: bold\">&lt;</span><span style=\"color: #ff00ff; text-decoration-color: #ff00ff; font-weight: bold\">value</span><span style=\"font-weight: bold\">&gt;</span><span style=\"color: #008080; text-decoration-color: #008080; font-weight: bold\">1278471</span><span style=\"font-weight: bold\">&lt;</span><span style=\"color: #800080; text-decoration-color: #800080\">/</span><span style=\"color: #ff00ff; text-decoration-color: #ff00ff\">value</span><span style=\"font-weight: bold\">&gt;</span>\n",
       "                <span style=\"font-weight: bold\">&lt;</span><span style=\"color: #800080; text-decoration-color: #800080\">/</span><span style=\"color: #ff00ff; text-decoration-color: #ff00ff\">transactionShares</span><span style=\"font-weight: bold\">&gt;</span>\n",
       "                <span style=\"font-weight: bold\">&lt;</span><span style=\"color: #ff00ff; text-decoration-color: #ff00ff; font-weight: bold\">transactionPricePerShare</span><span style=\"font-weight: bold\">&gt;</span>\n",
       "                    <span style=\"font-weight: bold\">&lt;</span><span style=\"color: #ff00ff; text-decoration-color: #ff00ff; font-weight: bold\">value</span><span style=\"font-weight: bold\">&gt;</span><span style=\"color: #008080; text-decoration-color: #008080; font-weight: bold\">0</span><span style=\"font-weight: bold\">&lt;</span><span style=\"color: #800080; text-decoration-color: #800080\">/</span><span style=\"color: #ff00ff; text-decoration-color: #ff00ff\">value</span><span style=\"font-weight: bold\">&gt;</span>\n",
       "                <span style=\"font-weight: bold\">&lt;</span><span style=\"color: #800080; text-decoration-color: #800080\">/</span><span style=\"color: #ff00ff; text-decoration-color: #ff00ff\">transactionPricePerShare</span><span style=\"font-weight: bold\">&gt;</span>\n",
       "                <span style=\"font-weight: bold\">&lt;</span><span style=\"color: #ff00ff; text-decoration-color: #ff00ff; font-weight: bold\">transactionAcquiredDisposedCode</span><span style=\"font-weight: bold\">&gt;</span>\n",
       "                    <span style=\"font-weight: bold\">&lt;</span><span style=\"color: #ff00ff; text-decoration-color: #ff00ff; font-weight: bold\">value</span><span style=\"font-weight: bold\">&gt;</span>D<span style=\"font-weight: bold\">&lt;</span><span style=\"color: #800080; text-decoration-color: #800080\">/</span><span style=\"color: #ff00ff; text-decoration-color: #ff00ff\">value</span><span style=\"font-weight: bold\">&gt;</span>\n",
       "                <span style=\"font-weight: bold\">&lt;</span><span style=\"color: #800080; text-decoration-color: #800080\">/</span><span style=\"color: #ff00ff; text-decoration-color: #ff00ff\">transactionAcquiredDisposedCode</span><span style=\"font-weight: bold\">&gt;</span>\n",
       "            <span style=\"font-weight: bold\">&lt;</span><span style=\"color: #800080; text-decoration-color: #800080\">/</span><span style=\"color: #ff00ff; text-decoration-color: #ff00ff\">transactionAmounts</span><span style=\"font-weight: bold\">&gt;</span>\n",
       "            <span style=\"font-weight: bold\">&lt;</span><span style=\"color: #ff00ff; text-decoration-color: #ff00ff; font-weight: bold\">postTransactionAmounts</span><span style=\"font-weight: bold\">&gt;</span>\n",
       "                <span style=\"font-weight: bold\">&lt;</span><span style=\"color: #ff00ff; text-decoration-color: #ff00ff; font-weight: bold\">sharesOwnedFollowingTransaction</span><span style=\"font-weight: bold\">&gt;</span>\n",
       "                    <span style=\"font-weight: bold\">&lt;</span><span style=\"color: #ff00ff; text-decoration-color: #ff00ff; font-weight: bold\">value</span><span style=\"font-weight: bold\">&gt;</span><span style=\"color: #008080; text-decoration-color: #008080; font-weight: bold\">0</span><span style=\"font-weight: bold\">&lt;</span><span style=\"color: #800080; text-decoration-color: #800080\">/</span><span style=\"color: #ff00ff; text-decoration-color: #ff00ff\">value</span><span style=\"font-weight: bold\">&gt;</span>\n",
       "                <span style=\"font-weight: bold\">&lt;</span><span style=\"color: #800080; text-decoration-color: #800080\">/</span><span style=\"color: #ff00ff; text-decoration-color: #ff00ff\">sharesOwnedFollowingTransaction</span><span style=\"font-weight: bold\">&gt;</span>\n",
       "            <span style=\"font-weight: bold\">&lt;</span><span style=\"color: #800080; text-decoration-color: #800080\">/</span><span style=\"color: #ff00ff; text-decoration-color: #ff00ff\">postTransactionAmounts</span><span style=\"font-weight: bold\">&gt;</span>\n",
       "            <span style=\"font-weight: bold\">&lt;</span><span style=\"color: #ff00ff; text-decoration-color: #ff00ff; font-weight: bold\">ownershipNature</span><span style=\"font-weight: bold\">&gt;</span>\n",
       "                <span style=\"font-weight: bold\">&lt;</span><span style=\"color: #ff00ff; text-decoration-color: #ff00ff; font-weight: bold\">directOrIndirectOwnership</span><span style=\"font-weight: bold\">&gt;</span>\n",
       "                    <span style=\"font-weight: bold\">&lt;</span><span style=\"color: #ff00ff; text-decoration-color: #ff00ff; font-weight: bold\">value</span><span style=\"font-weight: bold\">&gt;</span>I<span style=\"font-weight: bold\">&lt;</span><span style=\"color: #800080; text-decoration-color: #800080\">/</span><span style=\"color: #ff00ff; text-decoration-color: #ff00ff\">value</span><span style=\"font-weight: bold\">&gt;</span>\n",
       "                <span style=\"font-weight: bold\">&lt;</span><span style=\"color: #800080; text-decoration-color: #800080\">/</span><span style=\"color: #ff00ff; text-decoration-color: #ff00ff\">directOrIndirectOwnership</span><span style=\"font-weight: bold\">&gt;</span>\n",
       "                <span style=\"font-weight: bold\">&lt;</span><span style=\"color: #ff00ff; text-decoration-color: #ff00ff; font-weight: bold\">natureOfOwnership</span><span style=\"font-weight: bold\">&gt;</span>\n",
       "                    <span style=\"font-weight: bold\">&lt;</span><span style=\"color: #ff00ff; text-decoration-color: #ff00ff; font-weight: bold\">value</span><span style=\"font-weight: bold\">&gt;</span>See Footnote<span style=\"font-weight: bold\">&lt;</span><span style=\"color: #800080; text-decoration-color: #800080\">/</span><span style=\"color: #ff00ff; text-decoration-color: #ff00ff\">value</span><span style=\"font-weight: bold\">&gt;</span>\n",
       "                    <span style=\"font-weight: bold\">&lt;</span><span style=\"color: #ff00ff; text-decoration-color: #ff00ff; font-weight: bold\">footnoteId</span><span style=\"color: #000000; text-decoration-color: #000000\"> </span><span style=\"color: #808000; text-decoration-color: #808000\">id</span><span style=\"color: #000000; text-decoration-color: #000000\">=</span><span style=\"color: #008000; text-decoration-color: #008000\">\"F2\"</span><span style=\"color: #800080; text-decoration-color: #800080\">/</span><span style=\"font-weight: bold\">&gt;</span>\n",
       "                <span style=\"font-weight: bold\">&lt;</span><span style=\"color: #800080; text-decoration-color: #800080\">/</span><span style=\"color: #ff00ff; text-decoration-color: #ff00ff\">natureOfOwnership</span><span style=\"font-weight: bold\">&gt;</span>\n",
       "            <span style=\"font-weight: bold\">&lt;</span><span style=\"color: #800080; text-decoration-color: #800080\">/</span><span style=\"color: #ff00ff; text-decoration-color: #ff00ff\">ownershipNature</span><span style=\"font-weight: bold\">&gt;</span>\n",
       "        <span style=\"font-weight: bold\">&lt;</span><span style=\"color: #800080; text-decoration-color: #800080\">/</span><span style=\"color: #ff00ff; text-decoration-color: #ff00ff\">nonDerivativeTransaction</span><span style=\"font-weight: bold\">&gt;</span>\n",
       "    <span style=\"font-weight: bold\">&lt;</span><span style=\"color: #800080; text-decoration-color: #800080\">/</span><span style=\"color: #ff00ff; text-decoration-color: #ff00ff\">nonDerivativeTable</span><span style=\"font-weight: bold\">&gt;</span>\n",
       "\n",
       "    <span style=\"font-weight: bold\">&lt;</span><span style=\"color: #ff00ff; text-decoration-color: #ff00ff; font-weight: bold\">derivativeTable</span><span style=\"font-weight: bold\">&gt;</span>\n",
       "        <span style=\"font-weight: bold\">&lt;</span><span style=\"color: #ff00ff; text-decoration-color: #ff00ff; font-weight: bold\">derivativeTransaction</span><span style=\"font-weight: bold\">&gt;</span>\n",
       "            <span style=\"font-weight: bold\">&lt;</span><span style=\"color: #ff00ff; text-decoration-color: #ff00ff; font-weight: bold\">securityTitle</span><span style=\"font-weight: bold\">&gt;</span>\n",
       "                <span style=\"font-weight: bold\">&lt;</span><span style=\"color: #ff00ff; text-decoration-color: #ff00ff; font-weight: bold\">value</span><span style=\"font-weight: bold\">&gt;</span>Stock Options <span style=\"font-weight: bold\">(</span>option to buy<span style=\"font-weight: bold\">)&lt;</span><span style=\"color: #800080; text-decoration-color: #800080\">/</span><span style=\"color: #ff00ff; text-decoration-color: #ff00ff\">value</span><span style=\"font-weight: bold\">&gt;</span>\n",
       "            <span style=\"font-weight: bold\">&lt;</span><span style=\"color: #800080; text-decoration-color: #800080\">/</span><span style=\"color: #ff00ff; text-decoration-color: #ff00ff\">securityTitle</span><span style=\"font-weight: bold\">&gt;</span>\n",
       "            <span style=\"font-weight: bold\">&lt;</span><span style=\"color: #ff00ff; text-decoration-color: #ff00ff; font-weight: bold\">conversionOrExercisePrice</span><span style=\"font-weight: bold\">&gt;</span>\n",
       "                <span style=\"font-weight: bold\">&lt;</span><span style=\"color: #ff00ff; text-decoration-color: #ff00ff; font-weight: bold\">value</span><span style=\"font-weight: bold\">&gt;</span><span style=\"color: #008080; text-decoration-color: #008080; font-weight: bold\">2.50</span><span style=\"font-weight: bold\">&lt;</span><span style=\"color: #800080; text-decoration-color: #800080\">/</span><span style=\"color: #ff00ff; text-decoration-color: #ff00ff\">value</span><span style=\"font-weight: bold\">&gt;</span>\n",
       "            <span style=\"font-weight: bold\">&lt;</span><span style=\"color: #800080; text-decoration-color: #800080\">/</span><span style=\"color: #ff00ff; text-decoration-color: #ff00ff\">conversionOrExercisePrice</span><span style=\"font-weight: bold\">&gt;</span>\n",
       "            <span style=\"font-weight: bold\">&lt;</span><span style=\"color: #ff00ff; text-decoration-color: #ff00ff; font-weight: bold\">transactionDate</span><span style=\"font-weight: bold\">&gt;</span>\n",
       "                <span style=\"font-weight: bold\">&lt;</span><span style=\"color: #ff00ff; text-decoration-color: #ff00ff; font-weight: bold\">value</span><span style=\"font-weight: bold\">&gt;</span><span style=\"color: #008080; text-decoration-color: #008080; font-weight: bold\">2017</span>-<span style=\"color: #008080; text-decoration-color: #008080; font-weight: bold\">10</span>-<span style=\"color: #008080; text-decoration-color: #008080; font-weight: bold\">13</span><span style=\"font-weight: bold\">&lt;</span><span style=\"color: #800080; text-decoration-color: #800080\">/</span><span style=\"color: #ff00ff; text-decoration-color: #ff00ff\">value</span><span style=\"font-weight: bold\">&gt;</span>\n",
       "            <span style=\"font-weight: bold\">&lt;</span><span style=\"color: #800080; text-decoration-color: #800080\">/</span><span style=\"color: #ff00ff; text-decoration-color: #ff00ff\">transactionDate</span><span style=\"font-weight: bold\">&gt;</span>\n",
       "            <span style=\"font-weight: bold\">&lt;</span><span style=\"color: #ff00ff; text-decoration-color: #ff00ff; font-weight: bold\">transactionCoding</span><span style=\"font-weight: bold\">&gt;</span>\n",
       "                <span style=\"font-weight: bold\">&lt;</span><span style=\"color: #ff00ff; text-decoration-color: #ff00ff; font-weight: bold\">transactionFormType</span><span style=\"font-weight: bold\">&gt;</span><span style=\"color: #008080; text-decoration-color: #008080; font-weight: bold\">4</span><span style=\"font-weight: bold\">&lt;</span><span style=\"color: #800080; text-decoration-color: #800080\">/</span><span style=\"color: #ff00ff; text-decoration-color: #ff00ff\">transactionFormType</span><span style=\"font-weight: bold\">&gt;</span>\n",
       "                <span style=\"font-weight: bold\">&lt;</span><span style=\"color: #ff00ff; text-decoration-color: #ff00ff; font-weight: bold\">transactionCode</span><span style=\"font-weight: bold\">&gt;</span>A<span style=\"font-weight: bold\">&lt;</span><span style=\"color: #800080; text-decoration-color: #800080\">/</span><span style=\"color: #ff00ff; text-decoration-color: #ff00ff\">transactionCode</span><span style=\"font-weight: bold\">&gt;</span>\n",
       "                <span style=\"font-weight: bold\">&lt;</span><span style=\"color: #ff00ff; text-decoration-color: #ff00ff; font-weight: bold\">equitySwapInvolved</span><span style=\"font-weight: bold\">&gt;</span><span style=\"color: #008080; text-decoration-color: #008080; font-weight: bold\">0</span><span style=\"font-weight: bold\">&lt;</span><span style=\"color: #800080; text-decoration-color: #800080\">/</span><span style=\"color: #ff00ff; text-decoration-color: #ff00ff\">equitySwapInvolved</span><span style=\"font-weight: bold\">&gt;</span>\n",
       "            <span style=\"font-weight: bold\">&lt;</span><span style=\"color: #800080; text-decoration-color: #800080\">/</span><span style=\"color: #ff00ff; text-decoration-color: #ff00ff\">transactionCoding</span><span style=\"font-weight: bold\">&gt;</span>\n",
       "            <span style=\"font-weight: bold\">&lt;</span><span style=\"color: #ff00ff; text-decoration-color: #ff00ff; font-weight: bold\">transactionAmounts</span><span style=\"font-weight: bold\">&gt;</span>\n",
       "                <span style=\"font-weight: bold\">&lt;</span><span style=\"color: #ff00ff; text-decoration-color: #ff00ff; font-weight: bold\">transactionShares</span><span style=\"font-weight: bold\">&gt;</span>\n",
       "                    <span style=\"font-weight: bold\">&lt;</span><span style=\"color: #ff00ff; text-decoration-color: #ff00ff; font-weight: bold\">value</span><span style=\"font-weight: bold\">&gt;</span><span style=\"color: #008080; text-decoration-color: #008080; font-weight: bold\">20000</span><span style=\"font-weight: bold\">&lt;</span><span style=\"color: #800080; text-decoration-color: #800080\">/</span><span style=\"color: #ff00ff; text-decoration-color: #ff00ff\">value</span><span style=\"font-weight: bold\">&gt;</span>\n",
       "                <span style=\"font-weight: bold\">&lt;</span><span style=\"color: #800080; text-decoration-color: #800080\">/</span><span style=\"color: #ff00ff; text-decoration-color: #ff00ff\">transactionShares</span><span style=\"font-weight: bold\">&gt;</span>\n",
       "                <span style=\"font-weight: bold\">&lt;</span><span style=\"color: #ff00ff; text-decoration-color: #ff00ff; font-weight: bold\">transactionPricePerShare</span><span style=\"font-weight: bold\">&gt;</span>\n",
       "                    <span style=\"font-weight: bold\">&lt;</span><span style=\"color: #ff00ff; text-decoration-color: #ff00ff; font-weight: bold\">value</span><span style=\"font-weight: bold\">&gt;</span><span style=\"color: #008080; text-decoration-color: #008080; font-weight: bold\">0</span><span style=\"font-weight: bold\">&lt;</span><span style=\"color: #800080; text-decoration-color: #800080\">/</span><span style=\"color: #ff00ff; text-decoration-color: #ff00ff\">value</span><span style=\"font-weight: bold\">&gt;</span>\n",
       "                <span style=\"font-weight: bold\">&lt;</span><span style=\"color: #800080; text-decoration-color: #800080\">/</span><span style=\"color: #ff00ff; text-decoration-color: #ff00ff\">transactionPricePerShare</span><span style=\"font-weight: bold\">&gt;</span>\n",
       "                <span style=\"font-weight: bold\">&lt;</span><span style=\"color: #ff00ff; text-decoration-color: #ff00ff; font-weight: bold\">transactionAcquiredDisposedCode</span><span style=\"font-weight: bold\">&gt;</span>\n",
       "                    <span style=\"font-weight: bold\">&lt;</span><span style=\"color: #ff00ff; text-decoration-color: #ff00ff; font-weight: bold\">value</span><span style=\"font-weight: bold\">&gt;</span>A<span style=\"font-weight: bold\">&lt;</span><span style=\"color: #800080; text-decoration-color: #800080\">/</span><span style=\"color: #ff00ff; text-decoration-color: #ff00ff\">value</span><span style=\"font-weight: bold\">&gt;</span>\n",
       "                <span style=\"font-weight: bold\">&lt;</span><span style=\"color: #800080; text-decoration-color: #800080\">/</span><span style=\"color: #ff00ff; text-decoration-color: #ff00ff\">transactionAcquiredDisposedCode</span><span style=\"font-weight: bold\">&gt;</span>\n",
       "            <span style=\"font-weight: bold\">&lt;</span><span style=\"color: #800080; text-decoration-color: #800080\">/</span><span style=\"color: #ff00ff; text-decoration-color: #ff00ff\">transactionAmounts</span><span style=\"font-weight: bold\">&gt;</span>\n",
       "            <span style=\"font-weight: bold\">&lt;</span><span style=\"color: #ff00ff; text-decoration-color: #ff00ff; font-weight: bold\">exerciseDate</span><span style=\"font-weight: bold\">&gt;</span>\n",
       "                <span style=\"font-weight: bold\">&lt;</span><span style=\"color: #ff00ff; text-decoration-color: #ff00ff; font-weight: bold\">value</span><span style=\"font-weight: bold\">&gt;</span><span style=\"color: #008080; text-decoration-color: #008080; font-weight: bold\">2018</span>-<span style=\"color: #008080; text-decoration-color: #008080; font-weight: bold\">04</span>-<span style=\"color: #008080; text-decoration-color: #008080; font-weight: bold\">30</span><span style=\"font-weight: bold\">&lt;</span><span style=\"color: #800080; text-decoration-color: #800080\">/</span><span style=\"color: #ff00ff; text-decoration-color: #ff00ff\">value</span><span style=\"font-weight: bold\">&gt;</span>\n",
       "            <span style=\"font-weight: bold\">&lt;</span><span style=\"color: #800080; text-decoration-color: #800080\">/</span><span style=\"color: #ff00ff; text-decoration-color: #ff00ff\">exerciseDate</span><span style=\"font-weight: bold\">&gt;</span>\n",
       "            <span style=\"font-weight: bold\">&lt;</span><span style=\"color: #ff00ff; text-decoration-color: #ff00ff; font-weight: bold\">expirationDate</span><span style=\"font-weight: bold\">&gt;</span>\n",
       "                <span style=\"font-weight: bold\">&lt;</span><span style=\"color: #ff00ff; text-decoration-color: #ff00ff; font-weight: bold\">value</span><span style=\"font-weight: bold\">&gt;</span><span style=\"color: #008080; text-decoration-color: #008080; font-weight: bold\">2027</span>-<span style=\"color: #008080; text-decoration-color: #008080; font-weight: bold\">10</span>-<span style=\"color: #008080; text-decoration-color: #008080; font-weight: bold\">13</span><span style=\"font-weight: bold\">&lt;</span><span style=\"color: #800080; text-decoration-color: #800080\">/</span><span style=\"color: #ff00ff; text-decoration-color: #ff00ff\">value</span><span style=\"font-weight: bold\">&gt;</span>\n",
       "            <span style=\"font-weight: bold\">&lt;</span><span style=\"color: #800080; text-decoration-color: #800080\">/</span><span style=\"color: #ff00ff; text-decoration-color: #ff00ff\">expirationDate</span><span style=\"font-weight: bold\">&gt;</span>\n",
       "            <span style=\"font-weight: bold\">&lt;</span><span style=\"color: #ff00ff; text-decoration-color: #ff00ff; font-weight: bold\">underlyingSecurity</span><span style=\"font-weight: bold\">&gt;</span>\n",
       "                <span style=\"font-weight: bold\">&lt;</span><span style=\"color: #ff00ff; text-decoration-color: #ff00ff; font-weight: bold\">underlyingSecurityTitle</span><span style=\"font-weight: bold\">&gt;</span>\n",
       "                    <span style=\"font-weight: bold\">&lt;</span><span style=\"color: #ff00ff; text-decoration-color: #ff00ff; font-weight: bold\">value</span><span style=\"font-weight: bold\">&gt;</span>Common Stock, par value $<span style=\"color: #008080; text-decoration-color: #008080; font-weight: bold\">0.0001</span><span style=\"font-weight: bold\">&lt;</span><span style=\"color: #800080; text-decoration-color: #800080\">/</span><span style=\"color: #ff00ff; text-decoration-color: #ff00ff\">value</span><span style=\"font-weight: bold\">&gt;</span>\n",
       "                <span style=\"font-weight: bold\">&lt;</span><span style=\"color: #800080; text-decoration-color: #800080\">/</span><span style=\"color: #ff00ff; text-decoration-color: #ff00ff\">underlyingSecurityTitle</span><span style=\"font-weight: bold\">&gt;</span>\n",
       "                <span style=\"font-weight: bold\">&lt;</span><span style=\"color: #ff00ff; text-decoration-color: #ff00ff; font-weight: bold\">underlyingSecurityShares</span><span style=\"font-weight: bold\">&gt;</span>\n",
       "                    <span style=\"font-weight: bold\">&lt;</span><span style=\"color: #ff00ff; text-decoration-color: #ff00ff; font-weight: bold\">value</span><span style=\"font-weight: bold\">&gt;</span><span style=\"color: #008080; text-decoration-color: #008080; font-weight: bold\">20000</span><span style=\"font-weight: bold\">&lt;</span><span style=\"color: #800080; text-decoration-color: #800080\">/</span><span style=\"color: #ff00ff; text-decoration-color: #ff00ff\">value</span><span style=\"font-weight: bold\">&gt;</span>\n",
       "                <span style=\"font-weight: bold\">&lt;</span><span style=\"color: #800080; text-decoration-color: #800080\">/</span><span style=\"color: #ff00ff; text-decoration-color: #ff00ff\">underlyingSecurityShares</span><span style=\"font-weight: bold\">&gt;</span>\n",
       "            <span style=\"font-weight: bold\">&lt;</span><span style=\"color: #800080; text-decoration-color: #800080\">/</span><span style=\"color: #ff00ff; text-decoration-color: #ff00ff\">underlyingSecurity</span><span style=\"font-weight: bold\">&gt;</span>\n",
       "            <span style=\"font-weight: bold\">&lt;</span><span style=\"color: #ff00ff; text-decoration-color: #ff00ff; font-weight: bold\">postTransactionAmounts</span><span style=\"font-weight: bold\">&gt;</span>\n",
       "                <span style=\"font-weight: bold\">&lt;</span><span style=\"color: #ff00ff; text-decoration-color: #ff00ff; font-weight: bold\">sharesOwnedFollowingTransaction</span><span style=\"font-weight: bold\">&gt;</span>\n",
       "                    <span style=\"font-weight: bold\">&lt;</span><span style=\"color: #ff00ff; text-decoration-color: #ff00ff; font-weight: bold\">value</span><span style=\"font-weight: bold\">&gt;</span><span style=\"color: #008080; text-decoration-color: #008080; font-weight: bold\">20000</span><span style=\"font-weight: bold\">&lt;</span><span style=\"color: #800080; text-decoration-color: #800080\">/</span><span style=\"color: #ff00ff; text-decoration-color: #ff00ff\">value</span><span style=\"font-weight: bold\">&gt;</span>\n",
       "                <span style=\"font-weight: bold\">&lt;</span><span style=\"color: #800080; text-decoration-color: #800080\">/</span><span style=\"color: #ff00ff; text-decoration-color: #ff00ff\">sharesOwnedFollowingTransaction</span><span style=\"font-weight: bold\">&gt;</span>\n",
       "            <span style=\"font-weight: bold\">&lt;</span><span style=\"color: #800080; text-decoration-color: #800080\">/</span><span style=\"color: #ff00ff; text-decoration-color: #ff00ff\">postTransactionAmounts</span><span style=\"font-weight: bold\">&gt;</span>\n",
       "            <span style=\"font-weight: bold\">&lt;</span><span style=\"color: #ff00ff; text-decoration-color: #ff00ff; font-weight: bold\">ownershipNature</span><span style=\"font-weight: bold\">&gt;</span>\n",
       "                <span style=\"font-weight: bold\">&lt;</span><span style=\"color: #ff00ff; text-decoration-color: #ff00ff; font-weight: bold\">directOrIndirectOwnership</span><span style=\"font-weight: bold\">&gt;</span>\n",
       "                    <span style=\"font-weight: bold\">&lt;</span><span style=\"color: #ff00ff; text-decoration-color: #ff00ff; font-weight: bold\">value</span><span style=\"font-weight: bold\">&gt;</span>D<span style=\"font-weight: bold\">&lt;</span><span style=\"color: #800080; text-decoration-color: #800080\">/</span><span style=\"color: #ff00ff; text-decoration-color: #ff00ff\">value</span><span style=\"font-weight: bold\">&gt;</span>\n",
       "                    <span style=\"font-weight: bold\">&lt;</span><span style=\"color: #ff00ff; text-decoration-color: #ff00ff; font-weight: bold\">footnoteId</span><span style=\"color: #000000; text-decoration-color: #000000\"> </span><span style=\"color: #808000; text-decoration-color: #808000\">id</span><span style=\"color: #000000; text-decoration-color: #000000\">=</span><span style=\"color: #008000; text-decoration-color: #008000\">\"F3\"</span><span style=\"color: #800080; text-decoration-color: #800080\">/</span><span style=\"font-weight: bold\">&gt;</span>\n",
       "                <span style=\"font-weight: bold\">&lt;</span><span style=\"color: #800080; text-decoration-color: #800080\">/</span><span style=\"color: #ff00ff; text-decoration-color: #ff00ff\">directOrIndirectOwnership</span><span style=\"font-weight: bold\">&gt;</span>\n",
       "                <span style=\"font-weight: bold\">&lt;</span><span style=\"color: #ff00ff; text-decoration-color: #ff00ff; font-weight: bold\">natureOfOwnership</span><span style=\"font-weight: bold\">&gt;</span>\n",
       "                    <span style=\"font-weight: bold\">&lt;</span><span style=\"color: #ff00ff; text-decoration-color: #ff00ff; font-weight: bold\">value</span><span style=\"font-weight: bold\">&gt;&lt;</span><span style=\"color: #800080; text-decoration-color: #800080\">/</span><span style=\"color: #ff00ff; text-decoration-color: #ff00ff\">value</span><span style=\"font-weight: bold\">&gt;</span>\n",
       "                <span style=\"font-weight: bold\">&lt;</span><span style=\"color: #800080; text-decoration-color: #800080\">/</span><span style=\"color: #ff00ff; text-decoration-color: #ff00ff\">natureOfOwnership</span><span style=\"font-weight: bold\">&gt;</span>\n",
       "            <span style=\"font-weight: bold\">&lt;</span><span style=\"color: #800080; text-decoration-color: #800080\">/</span><span style=\"color: #ff00ff; text-decoration-color: #ff00ff\">ownershipNature</span><span style=\"font-weight: bold\">&gt;</span>\n",
       "        <span style=\"font-weight: bold\">&lt;</span><span style=\"color: #800080; text-decoration-color: #800080\">/</span><span style=\"color: #ff00ff; text-decoration-color: #ff00ff\">derivativeTransaction</span><span style=\"font-weight: bold\">&gt;</span>\n",
       "    <span style=\"font-weight: bold\">&lt;</span><span style=\"color: #800080; text-decoration-color: #800080\">/</span><span style=\"color: #ff00ff; text-decoration-color: #ff00ff\">derivativeTable</span><span style=\"font-weight: bold\">&gt;</span>\n",
       "\n",
       "    <span style=\"font-weight: bold\">&lt;</span><span style=\"color: #ff00ff; text-decoration-color: #ff00ff; font-weight: bold\">footnotes</span><span style=\"font-weight: bold\">&gt;</span>\n",
       "        <span style=\"font-weight: bold\">&lt;</span><span style=\"color: #ff00ff; text-decoration-color: #ff00ff; font-weight: bold\">footnote</span><span style=\"color: #000000; text-decoration-color: #000000\"> </span><span style=\"color: #808000; text-decoration-color: #808000\">id</span><span style=\"color: #000000; text-decoration-color: #000000\">=</span><span style=\"color: #008000; text-decoration-color: #008000\">\"F1\"</span><span style=\"font-weight: bold\">&gt;</span>Redmont VAXN Capital Holdings, LLC, a Delaware limited liability company <span style=\"font-weight: bold\">(</span>&amp;quot;Redmont \n",
       "VAXN&amp;quot;<span style=\"font-weight: bold\">)</span> distributed to its members, pro rata and without consideration, <span style=\"color: #008080; text-decoration-color: #008080; font-weight: bold\">1</span>,<span style=\"color: #008080; text-decoration-color: #008080; font-weight: bold\">278</span>,<span style=\"color: #008080; text-decoration-color: #008080; font-weight: bold\">471</span> shares of the Issuer's common\n",
       "stock.<span style=\"font-weight: bold\">&lt;</span><span style=\"color: #800080; text-decoration-color: #800080\">/</span><span style=\"color: #ff00ff; text-decoration-color: #ff00ff\">footnote</span><span style=\"font-weight: bold\">&gt;</span>\n",
       "        <span style=\"font-weight: bold\">&lt;</span><span style=\"color: #ff00ff; text-decoration-color: #ff00ff; font-weight: bold\">footnote</span><span style=\"color: #000000; text-decoration-color: #000000\"> </span><span style=\"color: #808000; text-decoration-color: #808000\">id</span><span style=\"color: #000000; text-decoration-color: #000000\">=</span><span style=\"color: #008000; text-decoration-color: #008000\">\"F2\"</span><span style=\"font-weight: bold\">&gt;</span>Consists of shares of Common Stock held by Redmont VAXN. Philip Hodges has sole voting \n",
       "and dispositive control with respect to all securities held by Redmont VAXN. Philip Hodges disclaims beneficial \n",
       "ownership of such securities, except to the extent of his pecuniary interest therein.<span style=\"font-weight: bold\">&lt;</span><span style=\"color: #800080; text-decoration-color: #800080\">/</span><span style=\"color: #ff00ff; text-decoration-color: #ff00ff\">footnote</span><span style=\"font-weight: bold\">&gt;</span>\n",
       "        <span style=\"font-weight: bold\">&lt;</span><span style=\"color: #ff00ff; text-decoration-color: #ff00ff; font-weight: bold\">footnote</span><span style=\"color: #000000; text-decoration-color: #000000\"> </span><span style=\"color: #808000; text-decoration-color: #808000\">id</span><span style=\"color: #000000; text-decoration-color: #000000\">=</span><span style=\"color: #008000; text-decoration-color: #008000\">\"F3\"</span><span style=\"font-weight: bold\">&gt;</span>Held by Philip Hodges.<span style=\"font-weight: bold\">&lt;</span><span style=\"color: #800080; text-decoration-color: #800080\">/</span><span style=\"color: #ff00ff; text-decoration-color: #ff00ff\">footnote</span><span style=\"font-weight: bold\">&gt;</span>\n",
       "    <span style=\"font-weight: bold\">&lt;</span><span style=\"color: #800080; text-decoration-color: #800080\">/</span><span style=\"color: #ff00ff; text-decoration-color: #ff00ff\">footnotes</span><span style=\"font-weight: bold\">&gt;</span>\n",
       "\n",
       "    <span style=\"font-weight: bold\">&lt;</span><span style=\"color: #ff00ff; text-decoration-color: #ff00ff; font-weight: bold\">remarks</span><span style=\"font-weight: bold\">&gt;&lt;</span><span style=\"color: #800080; text-decoration-color: #800080\">/</span><span style=\"color: #ff00ff; text-decoration-color: #ff00ff\">remarks</span><span style=\"font-weight: bold\">&gt;</span>\n",
       "\n",
       "    <span style=\"font-weight: bold\">&lt;</span><span style=\"color: #ff00ff; text-decoration-color: #ff00ff; font-weight: bold\">ownerSignature</span><span style=\"font-weight: bold\">&gt;</span>\n",
       "        <span style=\"font-weight: bold\">&lt;</span><span style=\"color: #ff00ff; text-decoration-color: #ff00ff; font-weight: bold\">signatureName</span><span style=\"font-weight: bold\">&gt;</span><span style=\"color: #800080; text-decoration-color: #800080\">/s/</span> Ori Solomon, Attorney in fact for Philip Hodges<span style=\"font-weight: bold\">&lt;</span><span style=\"color: #800080; text-decoration-color: #800080\">/</span><span style=\"color: #ff00ff; text-decoration-color: #ff00ff\">signatureName</span><span style=\"font-weight: bold\">&gt;</span>\n",
       "        <span style=\"font-weight: bold\">&lt;</span><span style=\"color: #ff00ff; text-decoration-color: #ff00ff; font-weight: bold\">signatureDate</span><span style=\"font-weight: bold\">&gt;</span><span style=\"color: #008080; text-decoration-color: #008080; font-weight: bold\">2017</span>-<span style=\"color: #008080; text-decoration-color: #008080; font-weight: bold\">10</span>-<span style=\"color: #008080; text-decoration-color: #008080; font-weight: bold\">17</span><span style=\"font-weight: bold\">&lt;</span><span style=\"color: #800080; text-decoration-color: #800080\">/</span><span style=\"color: #ff00ff; text-decoration-color: #ff00ff\">signatureDate</span><span style=\"font-weight: bold\">&gt;</span>\n",
       "    <span style=\"font-weight: bold\">&lt;</span><span style=\"color: #800080; text-decoration-color: #800080\">/</span><span style=\"color: #ff00ff; text-decoration-color: #ff00ff\">ownerSignature</span><span style=\"font-weight: bold\">&gt;</span>\n",
       "\n",
       "    <span style=\"font-weight: bold\">&lt;</span><span style=\"color: #ff00ff; text-decoration-color: #ff00ff; font-weight: bold\">ownerSignature</span><span style=\"font-weight: bold\">&gt;</span>\n",
       "        <span style=\"font-weight: bold\">&lt;</span><span style=\"color: #ff00ff; text-decoration-color: #ff00ff; font-weight: bold\">signatureName</span><span style=\"font-weight: bold\">&gt;</span><span style=\"color: #800080; text-decoration-color: #800080\">/s/</span> Ori Solomon, Attorney in fact for Redmont VAXN Capital Holdings, LLC<span style=\"font-weight: bold\">&lt;</span><span style=\"color: #800080; text-decoration-color: #800080\">/</span><span style=\"color: #ff00ff; text-decoration-color: #ff00ff\">signatureName</span><span style=\"font-weight: bold\">&gt;</span>\n",
       "        <span style=\"font-weight: bold\">&lt;</span><span style=\"color: #ff00ff; text-decoration-color: #ff00ff; font-weight: bold\">signatureDate</span><span style=\"font-weight: bold\">&gt;</span><span style=\"color: #008080; text-decoration-color: #008080; font-weight: bold\">2017</span>-<span style=\"color: #008080; text-decoration-color: #008080; font-weight: bold\">10</span>-<span style=\"color: #008080; text-decoration-color: #008080; font-weight: bold\">17</span><span style=\"font-weight: bold\">&lt;</span><span style=\"color: #800080; text-decoration-color: #800080\">/</span><span style=\"color: #ff00ff; text-decoration-color: #ff00ff\">signatureDate</span><span style=\"font-weight: bold\">&gt;</span>\n",
       "    <span style=\"font-weight: bold\">&lt;</span><span style=\"color: #800080; text-decoration-color: #800080\">/</span><span style=\"color: #ff00ff; text-decoration-color: #ff00ff\">ownerSignature</span><span style=\"font-weight: bold\">&gt;</span>\n",
       "<span style=\"font-weight: bold\">&lt;</span><span style=\"color: #800080; text-decoration-color: #800080\">/</span><span style=\"color: #ff00ff; text-decoration-color: #ff00ff\">ownershipDocument</span><span style=\"font-weight: bold\">&gt;</span>\n",
       "<span style=\"font-weight: bold\">&lt;</span><span style=\"color: #800080; text-decoration-color: #800080\">/</span><span style=\"color: #ff00ff; text-decoration-color: #ff00ff\">XML</span><span style=\"font-weight: bold\">&gt;</span>\n",
       "<span style=\"font-weight: bold\">&lt;</span><span style=\"color: #800080; text-decoration-color: #800080\">/</span><span style=\"color: #ff00ff; text-decoration-color: #ff00ff\">TEXT</span><span style=\"font-weight: bold\">&gt;</span>\n",
       "<span style=\"font-weight: bold\">&lt;</span><span style=\"color: #800080; text-decoration-color: #800080\">/</span><span style=\"color: #ff00ff; text-decoration-color: #ff00ff\">DOCUMENT</span><span style=\"font-weight: bold\">&gt;</span>\n",
       "<span style=\"font-weight: bold\">&lt;</span><span style=\"color: #800080; text-decoration-color: #800080\">/</span><span style=\"color: #ff00ff; text-decoration-color: #ff00ff\">SEC-DOCUMENT</span><span style=\"font-weight: bold\">&gt;</span>\n",
       "\n",
       "</pre>\n"
      ],
      "text/plain": [
       "\u001b[1m<\u001b[0m\u001b[1;95mSEC-DOCUMENT\u001b[0m\u001b[1m>\u001b[0m\u001b[1;36m0001012975\u001b[0m-\u001b[1;36m17\u001b[0m-\u001b[1;36m000759.\u001b[0mtxt : \u001b[1;36m20171017\u001b[0m\n",
       "\u001b[1m<\u001b[0m\u001b[1;95mSEC-HEADER\u001b[0m\u001b[1m>\u001b[0m\u001b[1;36m0001012975\u001b[0m-\u001b[1;36m17\u001b[0m-\u001b[1;36m000759.\u001b[0mhdr.sgml : \u001b[1;36m20171017\u001b[0m\n",
       "\u001b[1m<\u001b[0m\u001b[1;95mACCEPTANCE-DATETIME\u001b[0m\u001b[1m>\u001b[0m\u001b[1;36m20171017200436\u001b[0m\n",
       "ACCESSION NUMBER:               \u001b[1;36m0001012975\u001b[0m-\u001b[1;36m17\u001b[0m-\u001b[1;36m000759\u001b[0m\n",
       "CONFORMED SUBMISSION TYPE:      \u001b[1;36m4\u001b[0m\n",
       "PUBLIC DOCUMENT COUNT:          \u001b[1;36m1\u001b[0m\n",
       "CONFORMED PERIOD OF REPORT:     \u001b[1;36m20171013\u001b[0m\n",
       "FILED AS OF DATE:               \u001b[1;36m20171017\u001b[0m\n",
       "DATE AS OF CHANGE:              \u001b[1;36m20171017\u001b[0m\n",
       "\n",
       "REPORTING-OWNER:        \n",
       "\n",
       "        OWNER DATA:     \n",
       "                COMPANY CONFORMED NAME:                 Hodges Philip\n",
       "                CENTRAL INDEX KEY:                      \u001b[1;36m0001705562\u001b[0m\n",
       "\n",
       "        FILING VALUES:\n",
       "                FORM TYPE:              \u001b[1;36m4\u001b[0m\n",
       "                SEC ACT:                \u001b[1;36m1934\u001b[0m Act\n",
       "                SEC FILE NUMBER:        \u001b[1;36m001\u001b[0m-\u001b[1;36m32587\u001b[0m\n",
       "                FILM NUMBER:            \u001b[1;36m171141634\u001b[0m\n",
       "\n",
       "        MAIL ADDRESS:   \n",
       "                STREET \u001b[1;36m1\u001b[0m:               \u001b[1;36m19\u001b[0m FIRSTFIELD RD., SUITE \u001b[1;36m200\u001b[0m\n",
       "                CITY:                   GAITHERSBURG\n",
       "                STATE:                  MD\n",
       "                ZIP:                    \u001b[1;36m20878\u001b[0m\n",
       "\n",
       "REPORTING-OWNER:        \n",
       "\n",
       "        OWNER DATA:     \n",
       "                COMPANY CONFORMED NAME:                 Redmont VAXN Capital Holdings, LLC\n",
       "                CENTRAL INDEX KEY:                      \u001b[1;36m0001705638\u001b[0m\n",
       "                STATE OF INCORPORATION:                 DE\n",
       "                FISCAL YEAR END:                        \u001b[1;36m1231\u001b[0m\n",
       "\n",
       "        FILING VALUES:\n",
       "                FORM TYPE:              \u001b[1;36m4\u001b[0m\n",
       "                SEC ACT:                \u001b[1;36m1934\u001b[0m Act\n",
       "                SEC FILE NUMBER:        \u001b[1;36m001\u001b[0m-\u001b[1;36m32587\u001b[0m\n",
       "                FILM NUMBER:            \u001b[1;36m171141633\u001b[0m\n",
       "\n",
       "        BUSINESS ADDRESS:       \n",
       "                STREET \u001b[1;36m1\u001b[0m:               \u001b[1;36m820\u001b[0m SHADES CREEK PARKWAY, SUITE \u001b[1;36m1200\u001b[0m\n",
       "                CITY:                   BIRMINGHAM\n",
       "                STATE:                  AL\n",
       "                ZIP:                    \u001b[1;36m35209\u001b[0m\n",
       "                BUSINESS PHONE:         \u001b[1m(\u001b[0m\u001b[1;36m240\u001b[0m\u001b[1m)\u001b[0m \u001b[1;36m654\u001b[0m-\u001b[1;36m1450\u001b[0m\n",
       "\n",
       "        MAIL ADDRESS:   \n",
       "                STREET \u001b[1;36m1\u001b[0m:               \u001b[1;36m19\u001b[0m FIRSTFIELD RD., SUITE \u001b[1;36m200\u001b[0m\n",
       "                CITY:                   GAITHERSBURG\n",
       "                STATE:                  MD\n",
       "                ZIP:                    \u001b[1;36m20878\u001b[0m\n",
       "\n",
       "ISSUER:         \n",
       "\n",
       "        COMPANY DATA:   \n",
       "                COMPANY CONFORMED NAME:                 Altimmune, Inc.\n",
       "                CENTRAL INDEX KEY:                      \u001b[1;36m0001326190\u001b[0m\n",
       "                STANDARD INDUSTRIAL CLASSIFICATION:     PHARMACEUTICAL PREPARATIONS \u001b[1m[\u001b[0m\u001b[1;36m2834\u001b[0m\u001b[1m]\u001b[0m\n",
       "                IRS NUMBER:                             \u001b[1;36m202726770\u001b[0m\n",
       "                STATE OF INCORPORATION:                 DE\n",
       "                FISCAL YEAR END:                        \u001b[1;36m1231\u001b[0m\n",
       "\n",
       "        BUSINESS ADDRESS:       \n",
       "                STREET \u001b[1;36m1\u001b[0m:               \u001b[1;36m19\u001b[0m FIRSTFIELD ROAD\n",
       "                CITY:                   GAITHERSBURG\n",
       "                STATE:                  MD\n",
       "                ZIP:                    \u001b[1;36m20878\u001b[0m\n",
       "                BUSINESS PHONE:         \u001b[1;36m2406541450\u001b[0m\n",
       "\n",
       "        MAIL ADDRESS:   \n",
       "                STREET \u001b[1;36m1\u001b[0m:               \u001b[1;36m19\u001b[0m FIRSTFIELD ROAD\n",
       "                CITY:                   GAITHERSBURG\n",
       "                STATE:                  MD\n",
       "                ZIP:                    \u001b[1;36m20878\u001b[0m\n",
       "\n",
       "        FORMER COMPANY: \n",
       "                FORMER CONFORMED NAME:  PHARMATHENE, INC\n",
       "                DATE OF NAME CHANGE:    \u001b[1;36m20071016\u001b[0m\n",
       "\n",
       "        FORMER COMPANY: \n",
       "                FORMER CONFORMED NAME:  HEALTHCARE ACQUISITION CORP\n",
       "                DATE OF NAME CHANGE:    \u001b[1;36m20050505\u001b[0m\n",
       "\u001b[1m<\u001b[0m\u001b[35m/\u001b[0m\u001b[95mSEC-HEADER\u001b[0m\u001b[1m>\u001b[0m\n",
       "\u001b[1m<\u001b[0m\u001b[1;95mDOCUMENT\u001b[0m\u001b[1m>\u001b[0m\n",
       "\u001b[1m<\u001b[0m\u001b[1;95mTYPE\u001b[0m\u001b[1m>\u001b[0m\u001b[1;36m4\u001b[0m\n",
       "\u001b[1m<\u001b[0m\u001b[1;95mSEQUENCE\u001b[0m\u001b[1m>\u001b[0m\u001b[1;36m1\u001b[0m\n",
       "\u001b[1m<\u001b[0m\u001b[1;95mFILENAME\u001b[0m\u001b[1m>\u001b[0medgar.xml\n",
       "\u001b[1m<\u001b[0m\u001b[1;95mDESCRIPTION\u001b[0m\u001b[1m>\u001b[0mPRIMARY DOCUMENT\n",
       "\u001b[1m<\u001b[0m\u001b[1;95mTEXT\u001b[0m\u001b[1m>\u001b[0m\n",
       "\u001b[1m<\u001b[0m\u001b[1;95mXML\u001b[0m\u001b[1m>\u001b[0m\n",
       "\u001b[1m<\u001b[0m\u001b[39m?xml \u001b[0m\u001b[33mversion\u001b[0m\u001b[39m=\u001b[0m\u001b[32m\"1\u001b[0m\u001b[32m.0\"\u001b[0m\u001b[39m?\u001b[0m\u001b[1m>\u001b[0m\n",
       "\u001b[1m<\u001b[0m\u001b[1;95mownershipDocument\u001b[0m\u001b[1m>\u001b[0m\n",
       "\n",
       "    \u001b[1m<\u001b[0m\u001b[1;95mschemaVersion\u001b[0m\u001b[1m>\u001b[0mX0306\u001b[1m<\u001b[0m\u001b[35m/\u001b[0m\u001b[95mschemaVersion\u001b[0m\u001b[1m>\u001b[0m\n",
       "\n",
       "    \u001b[1m<\u001b[0m\u001b[1;95mdocumentType\u001b[0m\u001b[1m>\u001b[0m\u001b[1;36m4\u001b[0m\u001b[1m<\u001b[0m\u001b[35m/\u001b[0m\u001b[95mdocumentType\u001b[0m\u001b[1m>\u001b[0m\n",
       "\n",
       "    \u001b[1m<\u001b[0m\u001b[1;95mperiodOfReport\u001b[0m\u001b[1m>\u001b[0m\u001b[1;36m2017\u001b[0m-\u001b[1;36m10\u001b[0m-\u001b[1;36m13\u001b[0m\u001b[1m<\u001b[0m\u001b[35m/\u001b[0m\u001b[95mperiodOfReport\u001b[0m\u001b[1m>\u001b[0m\n",
       "\n",
       "    \u001b[1m<\u001b[0m\u001b[1;95missuer\u001b[0m\u001b[1m>\u001b[0m\n",
       "        \u001b[1m<\u001b[0m\u001b[1;95missuerCik\u001b[0m\u001b[1m>\u001b[0m\u001b[1;36m0001326190\u001b[0m\u001b[1m<\u001b[0m\u001b[35m/\u001b[0m\u001b[95missuerCik\u001b[0m\u001b[1m>\u001b[0m\n",
       "        \u001b[1m<\u001b[0m\u001b[1;95missuerName\u001b[0m\u001b[1m>\u001b[0mAltimmune, Inc.\u001b[1m<\u001b[0m\u001b[35m/\u001b[0m\u001b[95missuerName\u001b[0m\u001b[1m>\u001b[0m\n",
       "        \u001b[1m<\u001b[0m\u001b[1;95missuerTradingSymbol\u001b[0m\u001b[1m>\u001b[0mALT\u001b[1m<\u001b[0m\u001b[35m/\u001b[0m\u001b[95missuerTradingSymbol\u001b[0m\u001b[1m>\u001b[0m\n",
       "    \u001b[1m<\u001b[0m\u001b[35m/\u001b[0m\u001b[95missuer\u001b[0m\u001b[1m>\u001b[0m\n",
       "\n",
       "    \u001b[1m<\u001b[0m\u001b[1;95mreportingOwner\u001b[0m\u001b[1m>\u001b[0m\n",
       "        \u001b[1m<\u001b[0m\u001b[1;95mreportingOwnerId\u001b[0m\u001b[1m>\u001b[0m\n",
       "            \u001b[1m<\u001b[0m\u001b[1;95mrptOwnerCik\u001b[0m\u001b[1m>\u001b[0m\u001b[1;36m0001705562\u001b[0m\u001b[1m<\u001b[0m\u001b[35m/\u001b[0m\u001b[95mrptOwnerCik\u001b[0m\u001b[1m>\u001b[0m\n",
       "            \u001b[1m<\u001b[0m\u001b[1;95mrptOwnerName\u001b[0m\u001b[1m>\u001b[0mHodges Philip\u001b[1m<\u001b[0m\u001b[35m/\u001b[0m\u001b[95mrptOwnerName\u001b[0m\u001b[1m>\u001b[0m\n",
       "        \u001b[1m<\u001b[0m\u001b[35m/\u001b[0m\u001b[95mreportingOwnerId\u001b[0m\u001b[1m>\u001b[0m\n",
       "        \u001b[1m<\u001b[0m\u001b[1;95mreportingOwnerAddress\u001b[0m\u001b[1m>\u001b[0m\n",
       "            \u001b[1m<\u001b[0m\u001b[1;95mrptOwnerStreet1\u001b[0m\u001b[1m>\u001b[0mC/O ALTIMMUNE, INC.\u001b[1m<\u001b[0m\u001b[35m/\u001b[0m\u001b[95mrptOwnerStreet1\u001b[0m\u001b[1m>\u001b[0m\n",
       "            \u001b[1m<\u001b[0m\u001b[1;95mrptOwnerStreet2\u001b[0m\u001b[1m>\u001b[0m\u001b[1;36m19\u001b[0m FIRSTFIELD ROAD, SUITE \u001b[1;36m200\u001b[0m\u001b[1m<\u001b[0m\u001b[35m/\u001b[0m\u001b[95mrptOwnerStreet2\u001b[0m\u001b[1m>\u001b[0m\n",
       "            \u001b[1m<\u001b[0m\u001b[1;95mrptOwnerCity\u001b[0m\u001b[1m>\u001b[0mGAITHERSBURG\u001b[1m<\u001b[0m\u001b[35m/\u001b[0m\u001b[95mrptOwnerCity\u001b[0m\u001b[1m>\u001b[0m\n",
       "            \u001b[1m<\u001b[0m\u001b[1;95mrptOwnerState\u001b[0m\u001b[1m>\u001b[0mMD\u001b[1m<\u001b[0m\u001b[35m/\u001b[0m\u001b[95mrptOwnerState\u001b[0m\u001b[1m>\u001b[0m\n",
       "            \u001b[1m<\u001b[0m\u001b[1;95mrptOwnerZipCode\u001b[0m\u001b[1m>\u001b[0m\u001b[1;36m20878\u001b[0m\u001b[1m<\u001b[0m\u001b[35m/\u001b[0m\u001b[95mrptOwnerZipCode\u001b[0m\u001b[1m>\u001b[0m\n",
       "            \u001b[1m<\u001b[0m\u001b[1;95mrptOwnerStateDescription\u001b[0m\u001b[1m>\u001b[0m\u001b[1m<\u001b[0m\u001b[35m/\u001b[0m\u001b[95mrptOwnerStateDescription\u001b[0m\u001b[1m>\u001b[0m\n",
       "        \u001b[1m<\u001b[0m\u001b[35m/\u001b[0m\u001b[95mreportingOwnerAddress\u001b[0m\u001b[1m>\u001b[0m\n",
       "        \u001b[1m<\u001b[0m\u001b[1;95mreportingOwnerRelationship\u001b[0m\u001b[1m>\u001b[0m\n",
       "            \u001b[1m<\u001b[0m\u001b[1;95misDirector\u001b[0m\u001b[1m>\u001b[0m\u001b[1;36m1\u001b[0m\u001b[1m<\u001b[0m\u001b[35m/\u001b[0m\u001b[95misDirector\u001b[0m\u001b[1m>\u001b[0m\n",
       "            \u001b[1m<\u001b[0m\u001b[1;95misOfficer\u001b[0m\u001b[1m>\u001b[0m\u001b[1;36m0\u001b[0m\u001b[1m<\u001b[0m\u001b[35m/\u001b[0m\u001b[95misOfficer\u001b[0m\u001b[1m>\u001b[0m\n",
       "            \u001b[1m<\u001b[0m\u001b[1;95misTenPercentOwner\u001b[0m\u001b[1m>\u001b[0m\u001b[1;36m0\u001b[0m\u001b[1m<\u001b[0m\u001b[35m/\u001b[0m\u001b[95misTenPercentOwner\u001b[0m\u001b[1m>\u001b[0m\n",
       "            \u001b[1m<\u001b[0m\u001b[1;95misOther\u001b[0m\u001b[1m>\u001b[0m\u001b[1;36m0\u001b[0m\u001b[1m<\u001b[0m\u001b[35m/\u001b[0m\u001b[95misOther\u001b[0m\u001b[1m>\u001b[0m\n",
       "        \u001b[1m<\u001b[0m\u001b[35m/\u001b[0m\u001b[95mreportingOwnerRelationship\u001b[0m\u001b[1m>\u001b[0m\n",
       "    \u001b[1m<\u001b[0m\u001b[35m/\u001b[0m\u001b[95mreportingOwner\u001b[0m\u001b[1m>\u001b[0m\n",
       "\n",
       "    \u001b[1m<\u001b[0m\u001b[1;95mreportingOwner\u001b[0m\u001b[1m>\u001b[0m\n",
       "        \u001b[1m<\u001b[0m\u001b[1;95mreportingOwnerId\u001b[0m\u001b[1m>\u001b[0m\n",
       "            \u001b[1m<\u001b[0m\u001b[1;95mrptOwnerCik\u001b[0m\u001b[1m>\u001b[0m\u001b[1;36m0001705638\u001b[0m\u001b[1m<\u001b[0m\u001b[35m/\u001b[0m\u001b[95mrptOwnerCik\u001b[0m\u001b[1m>\u001b[0m\n",
       "            \u001b[1m<\u001b[0m\u001b[1;95mrptOwnerName\u001b[0m\u001b[1m>\u001b[0mRedmont VAXN Capital Holdings, LLC\u001b[1m<\u001b[0m\u001b[35m/\u001b[0m\u001b[95mrptOwnerName\u001b[0m\u001b[1m>\u001b[0m\n",
       "        \u001b[1m<\u001b[0m\u001b[35m/\u001b[0m\u001b[95mreportingOwnerId\u001b[0m\u001b[1m>\u001b[0m\n",
       "        \u001b[1m<\u001b[0m\u001b[1;95mreportingOwnerAddress\u001b[0m\u001b[1m>\u001b[0m\n",
       "            \u001b[1m<\u001b[0m\u001b[1;95mrptOwnerStreet1\u001b[0m\u001b[1m>\u001b[0mC/O ALTIMMUNE, INC.\u001b[1m<\u001b[0m\u001b[35m/\u001b[0m\u001b[95mrptOwnerStreet1\u001b[0m\u001b[1m>\u001b[0m\n",
       "            \u001b[1m<\u001b[0m\u001b[1;95mrptOwnerStreet2\u001b[0m\u001b[1m>\u001b[0m\u001b[1;36m19\u001b[0m FIRSTFIELD ROAD, SUITE \u001b[1;36m200\u001b[0m\u001b[1m<\u001b[0m\u001b[35m/\u001b[0m\u001b[95mrptOwnerStreet2\u001b[0m\u001b[1m>\u001b[0m\n",
       "            \u001b[1m<\u001b[0m\u001b[1;95mrptOwnerCity\u001b[0m\u001b[1m>\u001b[0mGAITHERSBURG\u001b[1m<\u001b[0m\u001b[35m/\u001b[0m\u001b[95mrptOwnerCity\u001b[0m\u001b[1m>\u001b[0m\n",
       "            \u001b[1m<\u001b[0m\u001b[1;95mrptOwnerState\u001b[0m\u001b[1m>\u001b[0mMD\u001b[1m<\u001b[0m\u001b[35m/\u001b[0m\u001b[95mrptOwnerState\u001b[0m\u001b[1m>\u001b[0m\n",
       "            \u001b[1m<\u001b[0m\u001b[1;95mrptOwnerZipCode\u001b[0m\u001b[1m>\u001b[0m\u001b[1;36m20878\u001b[0m\u001b[1m<\u001b[0m\u001b[35m/\u001b[0m\u001b[95mrptOwnerZipCode\u001b[0m\u001b[1m>\u001b[0m\n",
       "            \u001b[1m<\u001b[0m\u001b[1;95mrptOwnerStateDescription\u001b[0m\u001b[1m>\u001b[0m\u001b[1m<\u001b[0m\u001b[35m/\u001b[0m\u001b[95mrptOwnerStateDescription\u001b[0m\u001b[1m>\u001b[0m\n",
       "        \u001b[1m<\u001b[0m\u001b[35m/\u001b[0m\u001b[95mreportingOwnerAddress\u001b[0m\u001b[1m>\u001b[0m\n",
       "        \u001b[1m<\u001b[0m\u001b[1;95mreportingOwnerRelationship\u001b[0m\u001b[1m>\u001b[0m\n",
       "            \u001b[1m<\u001b[0m\u001b[1;95misDirector\u001b[0m\u001b[1m>\u001b[0m\u001b[1;36m1\u001b[0m\u001b[1m<\u001b[0m\u001b[35m/\u001b[0m\u001b[95misDirector\u001b[0m\u001b[1m>\u001b[0m\n",
       "            \u001b[1m<\u001b[0m\u001b[1;95misOfficer\u001b[0m\u001b[1m>\u001b[0m\u001b[1;36m0\u001b[0m\u001b[1m<\u001b[0m\u001b[35m/\u001b[0m\u001b[95misOfficer\u001b[0m\u001b[1m>\u001b[0m\n",
       "            \u001b[1m<\u001b[0m\u001b[1;95misTenPercentOwner\u001b[0m\u001b[1m>\u001b[0m\u001b[1;36m0\u001b[0m\u001b[1m<\u001b[0m\u001b[35m/\u001b[0m\u001b[95misTenPercentOwner\u001b[0m\u001b[1m>\u001b[0m\n",
       "            \u001b[1m<\u001b[0m\u001b[1;95misOther\u001b[0m\u001b[1m>\u001b[0m\u001b[1;36m0\u001b[0m\u001b[1m<\u001b[0m\u001b[35m/\u001b[0m\u001b[95misOther\u001b[0m\u001b[1m>\u001b[0m\n",
       "        \u001b[1m<\u001b[0m\u001b[35m/\u001b[0m\u001b[95mreportingOwnerRelationship\u001b[0m\u001b[1m>\u001b[0m\n",
       "    \u001b[1m<\u001b[0m\u001b[35m/\u001b[0m\u001b[95mreportingOwner\u001b[0m\u001b[1m>\u001b[0m\n",
       "\n",
       "    \u001b[1m<\u001b[0m\u001b[1;95mnonDerivativeTable\u001b[0m\u001b[1m>\u001b[0m\n",
       "        \u001b[1m<\u001b[0m\u001b[1;95mnonDerivativeTransaction\u001b[0m\u001b[1m>\u001b[0m\n",
       "            \u001b[1m<\u001b[0m\u001b[1;95msecurityTitle\u001b[0m\u001b[1m>\u001b[0m\n",
       "                \u001b[1m<\u001b[0m\u001b[1;95mvalue\u001b[0m\u001b[1m>\u001b[0mCommon Stock, par value $\u001b[1;36m0.0001\u001b[0m\u001b[1m<\u001b[0m\u001b[35m/\u001b[0m\u001b[95mvalue\u001b[0m\u001b[1m>\u001b[0m\n",
       "            \u001b[1m<\u001b[0m\u001b[35m/\u001b[0m\u001b[95msecurityTitle\u001b[0m\u001b[1m>\u001b[0m\n",
       "            \u001b[1m<\u001b[0m\u001b[1;95mtransactionDate\u001b[0m\u001b[1m>\u001b[0m\n",
       "                \u001b[1m<\u001b[0m\u001b[1;95mvalue\u001b[0m\u001b[1m>\u001b[0m\u001b[1;36m2017\u001b[0m-\u001b[1;36m10\u001b[0m-\u001b[1;36m17\u001b[0m\u001b[1m<\u001b[0m\u001b[35m/\u001b[0m\u001b[95mvalue\u001b[0m\u001b[1m>\u001b[0m\n",
       "            \u001b[1m<\u001b[0m\u001b[35m/\u001b[0m\u001b[95mtransactionDate\u001b[0m\u001b[1m>\u001b[0m\n",
       "            \u001b[1m<\u001b[0m\u001b[1;95mtransactionCoding\u001b[0m\u001b[1m>\u001b[0m\n",
       "                \u001b[1m<\u001b[0m\u001b[1;95mtransactionFormType\u001b[0m\u001b[1m>\u001b[0m\u001b[1;36m4\u001b[0m\u001b[1m<\u001b[0m\u001b[35m/\u001b[0m\u001b[95mtransactionFormType\u001b[0m\u001b[1m>\u001b[0m\n",
       "                \u001b[1m<\u001b[0m\u001b[1;95mtransactionCode\u001b[0m\u001b[1m>\u001b[0mJ\u001b[1m<\u001b[0m\u001b[35m/\u001b[0m\u001b[95mtransactionCode\u001b[0m\u001b[1m>\u001b[0m\n",
       "                \u001b[1m<\u001b[0m\u001b[1;95mequitySwapInvolved\u001b[0m\u001b[1m>\u001b[0m\u001b[1;36m0\u001b[0m\u001b[1m<\u001b[0m\u001b[35m/\u001b[0m\u001b[95mequitySwapInvolved\u001b[0m\u001b[1m>\u001b[0m\n",
       "                \u001b[1m<\u001b[0m\u001b[1;95mfootnoteId\u001b[0m\u001b[39m \u001b[0m\u001b[33mid\u001b[0m\u001b[39m=\u001b[0m\u001b[32m\"F1\"\u001b[0m\u001b[35m/\u001b[0m\u001b[1m>\u001b[0m\n",
       "            \u001b[1m<\u001b[0m\u001b[35m/\u001b[0m\u001b[95mtransactionCoding\u001b[0m\u001b[1m>\u001b[0m\n",
       "            \u001b[1m<\u001b[0m\u001b[1;95mtransactionAmounts\u001b[0m\u001b[1m>\u001b[0m\n",
       "                \u001b[1m<\u001b[0m\u001b[1;95mtransactionShares\u001b[0m\u001b[1m>\u001b[0m\n",
       "                    \u001b[1m<\u001b[0m\u001b[1;95mvalue\u001b[0m\u001b[1m>\u001b[0m\u001b[1;36m1278471\u001b[0m\u001b[1m<\u001b[0m\u001b[35m/\u001b[0m\u001b[95mvalue\u001b[0m\u001b[1m>\u001b[0m\n",
       "                \u001b[1m<\u001b[0m\u001b[35m/\u001b[0m\u001b[95mtransactionShares\u001b[0m\u001b[1m>\u001b[0m\n",
       "                \u001b[1m<\u001b[0m\u001b[1;95mtransactionPricePerShare\u001b[0m\u001b[1m>\u001b[0m\n",
       "                    \u001b[1m<\u001b[0m\u001b[1;95mvalue\u001b[0m\u001b[1m>\u001b[0m\u001b[1;36m0\u001b[0m\u001b[1m<\u001b[0m\u001b[35m/\u001b[0m\u001b[95mvalue\u001b[0m\u001b[1m>\u001b[0m\n",
       "                \u001b[1m<\u001b[0m\u001b[35m/\u001b[0m\u001b[95mtransactionPricePerShare\u001b[0m\u001b[1m>\u001b[0m\n",
       "                \u001b[1m<\u001b[0m\u001b[1;95mtransactionAcquiredDisposedCode\u001b[0m\u001b[1m>\u001b[0m\n",
       "                    \u001b[1m<\u001b[0m\u001b[1;95mvalue\u001b[0m\u001b[1m>\u001b[0mD\u001b[1m<\u001b[0m\u001b[35m/\u001b[0m\u001b[95mvalue\u001b[0m\u001b[1m>\u001b[0m\n",
       "                \u001b[1m<\u001b[0m\u001b[35m/\u001b[0m\u001b[95mtransactionAcquiredDisposedCode\u001b[0m\u001b[1m>\u001b[0m\n",
       "            \u001b[1m<\u001b[0m\u001b[35m/\u001b[0m\u001b[95mtransactionAmounts\u001b[0m\u001b[1m>\u001b[0m\n",
       "            \u001b[1m<\u001b[0m\u001b[1;95mpostTransactionAmounts\u001b[0m\u001b[1m>\u001b[0m\n",
       "                \u001b[1m<\u001b[0m\u001b[1;95msharesOwnedFollowingTransaction\u001b[0m\u001b[1m>\u001b[0m\n",
       "                    \u001b[1m<\u001b[0m\u001b[1;95mvalue\u001b[0m\u001b[1m>\u001b[0m\u001b[1;36m0\u001b[0m\u001b[1m<\u001b[0m\u001b[35m/\u001b[0m\u001b[95mvalue\u001b[0m\u001b[1m>\u001b[0m\n",
       "                \u001b[1m<\u001b[0m\u001b[35m/\u001b[0m\u001b[95msharesOwnedFollowingTransaction\u001b[0m\u001b[1m>\u001b[0m\n",
       "            \u001b[1m<\u001b[0m\u001b[35m/\u001b[0m\u001b[95mpostTransactionAmounts\u001b[0m\u001b[1m>\u001b[0m\n",
       "            \u001b[1m<\u001b[0m\u001b[1;95mownershipNature\u001b[0m\u001b[1m>\u001b[0m\n",
       "                \u001b[1m<\u001b[0m\u001b[1;95mdirectOrIndirectOwnership\u001b[0m\u001b[1m>\u001b[0m\n",
       "                    \u001b[1m<\u001b[0m\u001b[1;95mvalue\u001b[0m\u001b[1m>\u001b[0mI\u001b[1m<\u001b[0m\u001b[35m/\u001b[0m\u001b[95mvalue\u001b[0m\u001b[1m>\u001b[0m\n",
       "                \u001b[1m<\u001b[0m\u001b[35m/\u001b[0m\u001b[95mdirectOrIndirectOwnership\u001b[0m\u001b[1m>\u001b[0m\n",
       "                \u001b[1m<\u001b[0m\u001b[1;95mnatureOfOwnership\u001b[0m\u001b[1m>\u001b[0m\n",
       "                    \u001b[1m<\u001b[0m\u001b[1;95mvalue\u001b[0m\u001b[1m>\u001b[0mSee Footnote\u001b[1m<\u001b[0m\u001b[35m/\u001b[0m\u001b[95mvalue\u001b[0m\u001b[1m>\u001b[0m\n",
       "                    \u001b[1m<\u001b[0m\u001b[1;95mfootnoteId\u001b[0m\u001b[39m \u001b[0m\u001b[33mid\u001b[0m\u001b[39m=\u001b[0m\u001b[32m\"F2\"\u001b[0m\u001b[35m/\u001b[0m\u001b[1m>\u001b[0m\n",
       "                \u001b[1m<\u001b[0m\u001b[35m/\u001b[0m\u001b[95mnatureOfOwnership\u001b[0m\u001b[1m>\u001b[0m\n",
       "            \u001b[1m<\u001b[0m\u001b[35m/\u001b[0m\u001b[95mownershipNature\u001b[0m\u001b[1m>\u001b[0m\n",
       "        \u001b[1m<\u001b[0m\u001b[35m/\u001b[0m\u001b[95mnonDerivativeTransaction\u001b[0m\u001b[1m>\u001b[0m\n",
       "    \u001b[1m<\u001b[0m\u001b[35m/\u001b[0m\u001b[95mnonDerivativeTable\u001b[0m\u001b[1m>\u001b[0m\n",
       "\n",
       "    \u001b[1m<\u001b[0m\u001b[1;95mderivativeTable\u001b[0m\u001b[1m>\u001b[0m\n",
       "        \u001b[1m<\u001b[0m\u001b[1;95mderivativeTransaction\u001b[0m\u001b[1m>\u001b[0m\n",
       "            \u001b[1m<\u001b[0m\u001b[1;95msecurityTitle\u001b[0m\u001b[1m>\u001b[0m\n",
       "                \u001b[1m<\u001b[0m\u001b[1;95mvalue\u001b[0m\u001b[1m>\u001b[0mStock Options \u001b[1m(\u001b[0moption to buy\u001b[1m)\u001b[0m\u001b[1m<\u001b[0m\u001b[35m/\u001b[0m\u001b[95mvalue\u001b[0m\u001b[1m>\u001b[0m\n",
       "            \u001b[1m<\u001b[0m\u001b[35m/\u001b[0m\u001b[95msecurityTitle\u001b[0m\u001b[1m>\u001b[0m\n",
       "            \u001b[1m<\u001b[0m\u001b[1;95mconversionOrExercisePrice\u001b[0m\u001b[1m>\u001b[0m\n",
       "                \u001b[1m<\u001b[0m\u001b[1;95mvalue\u001b[0m\u001b[1m>\u001b[0m\u001b[1;36m2.50\u001b[0m\u001b[1m<\u001b[0m\u001b[35m/\u001b[0m\u001b[95mvalue\u001b[0m\u001b[1m>\u001b[0m\n",
       "            \u001b[1m<\u001b[0m\u001b[35m/\u001b[0m\u001b[95mconversionOrExercisePrice\u001b[0m\u001b[1m>\u001b[0m\n",
       "            \u001b[1m<\u001b[0m\u001b[1;95mtransactionDate\u001b[0m\u001b[1m>\u001b[0m\n",
       "                \u001b[1m<\u001b[0m\u001b[1;95mvalue\u001b[0m\u001b[1m>\u001b[0m\u001b[1;36m2017\u001b[0m-\u001b[1;36m10\u001b[0m-\u001b[1;36m13\u001b[0m\u001b[1m<\u001b[0m\u001b[35m/\u001b[0m\u001b[95mvalue\u001b[0m\u001b[1m>\u001b[0m\n",
       "            \u001b[1m<\u001b[0m\u001b[35m/\u001b[0m\u001b[95mtransactionDate\u001b[0m\u001b[1m>\u001b[0m\n",
       "            \u001b[1m<\u001b[0m\u001b[1;95mtransactionCoding\u001b[0m\u001b[1m>\u001b[0m\n",
       "                \u001b[1m<\u001b[0m\u001b[1;95mtransactionFormType\u001b[0m\u001b[1m>\u001b[0m\u001b[1;36m4\u001b[0m\u001b[1m<\u001b[0m\u001b[35m/\u001b[0m\u001b[95mtransactionFormType\u001b[0m\u001b[1m>\u001b[0m\n",
       "                \u001b[1m<\u001b[0m\u001b[1;95mtransactionCode\u001b[0m\u001b[1m>\u001b[0mA\u001b[1m<\u001b[0m\u001b[35m/\u001b[0m\u001b[95mtransactionCode\u001b[0m\u001b[1m>\u001b[0m\n",
       "                \u001b[1m<\u001b[0m\u001b[1;95mequitySwapInvolved\u001b[0m\u001b[1m>\u001b[0m\u001b[1;36m0\u001b[0m\u001b[1m<\u001b[0m\u001b[35m/\u001b[0m\u001b[95mequitySwapInvolved\u001b[0m\u001b[1m>\u001b[0m\n",
       "            \u001b[1m<\u001b[0m\u001b[35m/\u001b[0m\u001b[95mtransactionCoding\u001b[0m\u001b[1m>\u001b[0m\n",
       "            \u001b[1m<\u001b[0m\u001b[1;95mtransactionAmounts\u001b[0m\u001b[1m>\u001b[0m\n",
       "                \u001b[1m<\u001b[0m\u001b[1;95mtransactionShares\u001b[0m\u001b[1m>\u001b[0m\n",
       "                    \u001b[1m<\u001b[0m\u001b[1;95mvalue\u001b[0m\u001b[1m>\u001b[0m\u001b[1;36m20000\u001b[0m\u001b[1m<\u001b[0m\u001b[35m/\u001b[0m\u001b[95mvalue\u001b[0m\u001b[1m>\u001b[0m\n",
       "                \u001b[1m<\u001b[0m\u001b[35m/\u001b[0m\u001b[95mtransactionShares\u001b[0m\u001b[1m>\u001b[0m\n",
       "                \u001b[1m<\u001b[0m\u001b[1;95mtransactionPricePerShare\u001b[0m\u001b[1m>\u001b[0m\n",
       "                    \u001b[1m<\u001b[0m\u001b[1;95mvalue\u001b[0m\u001b[1m>\u001b[0m\u001b[1;36m0\u001b[0m\u001b[1m<\u001b[0m\u001b[35m/\u001b[0m\u001b[95mvalue\u001b[0m\u001b[1m>\u001b[0m\n",
       "                \u001b[1m<\u001b[0m\u001b[35m/\u001b[0m\u001b[95mtransactionPricePerShare\u001b[0m\u001b[1m>\u001b[0m\n",
       "                \u001b[1m<\u001b[0m\u001b[1;95mtransactionAcquiredDisposedCode\u001b[0m\u001b[1m>\u001b[0m\n",
       "                    \u001b[1m<\u001b[0m\u001b[1;95mvalue\u001b[0m\u001b[1m>\u001b[0mA\u001b[1m<\u001b[0m\u001b[35m/\u001b[0m\u001b[95mvalue\u001b[0m\u001b[1m>\u001b[0m\n",
       "                \u001b[1m<\u001b[0m\u001b[35m/\u001b[0m\u001b[95mtransactionAcquiredDisposedCode\u001b[0m\u001b[1m>\u001b[0m\n",
       "            \u001b[1m<\u001b[0m\u001b[35m/\u001b[0m\u001b[95mtransactionAmounts\u001b[0m\u001b[1m>\u001b[0m\n",
       "            \u001b[1m<\u001b[0m\u001b[1;95mexerciseDate\u001b[0m\u001b[1m>\u001b[0m\n",
       "                \u001b[1m<\u001b[0m\u001b[1;95mvalue\u001b[0m\u001b[1m>\u001b[0m\u001b[1;36m2018\u001b[0m-\u001b[1;36m04\u001b[0m-\u001b[1;36m30\u001b[0m\u001b[1m<\u001b[0m\u001b[35m/\u001b[0m\u001b[95mvalue\u001b[0m\u001b[1m>\u001b[0m\n",
       "            \u001b[1m<\u001b[0m\u001b[35m/\u001b[0m\u001b[95mexerciseDate\u001b[0m\u001b[1m>\u001b[0m\n",
       "            \u001b[1m<\u001b[0m\u001b[1;95mexpirationDate\u001b[0m\u001b[1m>\u001b[0m\n",
       "                \u001b[1m<\u001b[0m\u001b[1;95mvalue\u001b[0m\u001b[1m>\u001b[0m\u001b[1;36m2027\u001b[0m-\u001b[1;36m10\u001b[0m-\u001b[1;36m13\u001b[0m\u001b[1m<\u001b[0m\u001b[35m/\u001b[0m\u001b[95mvalue\u001b[0m\u001b[1m>\u001b[0m\n",
       "            \u001b[1m<\u001b[0m\u001b[35m/\u001b[0m\u001b[95mexpirationDate\u001b[0m\u001b[1m>\u001b[0m\n",
       "            \u001b[1m<\u001b[0m\u001b[1;95munderlyingSecurity\u001b[0m\u001b[1m>\u001b[0m\n",
       "                \u001b[1m<\u001b[0m\u001b[1;95munderlyingSecurityTitle\u001b[0m\u001b[1m>\u001b[0m\n",
       "                    \u001b[1m<\u001b[0m\u001b[1;95mvalue\u001b[0m\u001b[1m>\u001b[0mCommon Stock, par value $\u001b[1;36m0.0001\u001b[0m\u001b[1m<\u001b[0m\u001b[35m/\u001b[0m\u001b[95mvalue\u001b[0m\u001b[1m>\u001b[0m\n",
       "                \u001b[1m<\u001b[0m\u001b[35m/\u001b[0m\u001b[95munderlyingSecurityTitle\u001b[0m\u001b[1m>\u001b[0m\n",
       "                \u001b[1m<\u001b[0m\u001b[1;95munderlyingSecurityShares\u001b[0m\u001b[1m>\u001b[0m\n",
       "                    \u001b[1m<\u001b[0m\u001b[1;95mvalue\u001b[0m\u001b[1m>\u001b[0m\u001b[1;36m20000\u001b[0m\u001b[1m<\u001b[0m\u001b[35m/\u001b[0m\u001b[95mvalue\u001b[0m\u001b[1m>\u001b[0m\n",
       "                \u001b[1m<\u001b[0m\u001b[35m/\u001b[0m\u001b[95munderlyingSecurityShares\u001b[0m\u001b[1m>\u001b[0m\n",
       "            \u001b[1m<\u001b[0m\u001b[35m/\u001b[0m\u001b[95munderlyingSecurity\u001b[0m\u001b[1m>\u001b[0m\n",
       "            \u001b[1m<\u001b[0m\u001b[1;95mpostTransactionAmounts\u001b[0m\u001b[1m>\u001b[0m\n",
       "                \u001b[1m<\u001b[0m\u001b[1;95msharesOwnedFollowingTransaction\u001b[0m\u001b[1m>\u001b[0m\n",
       "                    \u001b[1m<\u001b[0m\u001b[1;95mvalue\u001b[0m\u001b[1m>\u001b[0m\u001b[1;36m20000\u001b[0m\u001b[1m<\u001b[0m\u001b[35m/\u001b[0m\u001b[95mvalue\u001b[0m\u001b[1m>\u001b[0m\n",
       "                \u001b[1m<\u001b[0m\u001b[35m/\u001b[0m\u001b[95msharesOwnedFollowingTransaction\u001b[0m\u001b[1m>\u001b[0m\n",
       "            \u001b[1m<\u001b[0m\u001b[35m/\u001b[0m\u001b[95mpostTransactionAmounts\u001b[0m\u001b[1m>\u001b[0m\n",
       "            \u001b[1m<\u001b[0m\u001b[1;95mownershipNature\u001b[0m\u001b[1m>\u001b[0m\n",
       "                \u001b[1m<\u001b[0m\u001b[1;95mdirectOrIndirectOwnership\u001b[0m\u001b[1m>\u001b[0m\n",
       "                    \u001b[1m<\u001b[0m\u001b[1;95mvalue\u001b[0m\u001b[1m>\u001b[0mD\u001b[1m<\u001b[0m\u001b[35m/\u001b[0m\u001b[95mvalue\u001b[0m\u001b[1m>\u001b[0m\n",
       "                    \u001b[1m<\u001b[0m\u001b[1;95mfootnoteId\u001b[0m\u001b[39m \u001b[0m\u001b[33mid\u001b[0m\u001b[39m=\u001b[0m\u001b[32m\"F3\"\u001b[0m\u001b[35m/\u001b[0m\u001b[1m>\u001b[0m\n",
       "                \u001b[1m<\u001b[0m\u001b[35m/\u001b[0m\u001b[95mdirectOrIndirectOwnership\u001b[0m\u001b[1m>\u001b[0m\n",
       "                \u001b[1m<\u001b[0m\u001b[1;95mnatureOfOwnership\u001b[0m\u001b[1m>\u001b[0m\n",
       "                    \u001b[1m<\u001b[0m\u001b[1;95mvalue\u001b[0m\u001b[1m>\u001b[0m\u001b[1m<\u001b[0m\u001b[35m/\u001b[0m\u001b[95mvalue\u001b[0m\u001b[1m>\u001b[0m\n",
       "                \u001b[1m<\u001b[0m\u001b[35m/\u001b[0m\u001b[95mnatureOfOwnership\u001b[0m\u001b[1m>\u001b[0m\n",
       "            \u001b[1m<\u001b[0m\u001b[35m/\u001b[0m\u001b[95mownershipNature\u001b[0m\u001b[1m>\u001b[0m\n",
       "        \u001b[1m<\u001b[0m\u001b[35m/\u001b[0m\u001b[95mderivativeTransaction\u001b[0m\u001b[1m>\u001b[0m\n",
       "    \u001b[1m<\u001b[0m\u001b[35m/\u001b[0m\u001b[95mderivativeTable\u001b[0m\u001b[1m>\u001b[0m\n",
       "\n",
       "    \u001b[1m<\u001b[0m\u001b[1;95mfootnotes\u001b[0m\u001b[1m>\u001b[0m\n",
       "        \u001b[1m<\u001b[0m\u001b[1;95mfootnote\u001b[0m\u001b[39m \u001b[0m\u001b[33mid\u001b[0m\u001b[39m=\u001b[0m\u001b[32m\"F1\"\u001b[0m\u001b[1m>\u001b[0mRedmont VAXN Capital Holdings, LLC, a Delaware limited liability company \u001b[1m(\u001b[0m&quot;Redmont \n",
       "VAXN&quot;\u001b[1m)\u001b[0m distributed to its members, pro rata and without consideration, \u001b[1;36m1\u001b[0m,\u001b[1;36m278\u001b[0m,\u001b[1;36m471\u001b[0m shares of the Issuer's common\n",
       "stock.\u001b[1m<\u001b[0m\u001b[35m/\u001b[0m\u001b[95mfootnote\u001b[0m\u001b[1m>\u001b[0m\n",
       "        \u001b[1m<\u001b[0m\u001b[1;95mfootnote\u001b[0m\u001b[39m \u001b[0m\u001b[33mid\u001b[0m\u001b[39m=\u001b[0m\u001b[32m\"F2\"\u001b[0m\u001b[1m>\u001b[0mConsists of shares of Common Stock held by Redmont VAXN. Philip Hodges has sole voting \n",
       "and dispositive control with respect to all securities held by Redmont VAXN. Philip Hodges disclaims beneficial \n",
       "ownership of such securities, except to the extent of his pecuniary interest therein.\u001b[1m<\u001b[0m\u001b[35m/\u001b[0m\u001b[95mfootnote\u001b[0m\u001b[1m>\u001b[0m\n",
       "        \u001b[1m<\u001b[0m\u001b[1;95mfootnote\u001b[0m\u001b[39m \u001b[0m\u001b[33mid\u001b[0m\u001b[39m=\u001b[0m\u001b[32m\"F3\"\u001b[0m\u001b[1m>\u001b[0mHeld by Philip Hodges.\u001b[1m<\u001b[0m\u001b[35m/\u001b[0m\u001b[95mfootnote\u001b[0m\u001b[1m>\u001b[0m\n",
       "    \u001b[1m<\u001b[0m\u001b[35m/\u001b[0m\u001b[95mfootnotes\u001b[0m\u001b[1m>\u001b[0m\n",
       "\n",
       "    \u001b[1m<\u001b[0m\u001b[1;95mremarks\u001b[0m\u001b[1m>\u001b[0m\u001b[1m<\u001b[0m\u001b[35m/\u001b[0m\u001b[95mremarks\u001b[0m\u001b[1m>\u001b[0m\n",
       "\n",
       "    \u001b[1m<\u001b[0m\u001b[1;95mownerSignature\u001b[0m\u001b[1m>\u001b[0m\n",
       "        \u001b[1m<\u001b[0m\u001b[1;95msignatureName\u001b[0m\u001b[1m>\u001b[0m\u001b[35m/s/\u001b[0m Ori Solomon, Attorney in fact for Philip Hodges\u001b[1m<\u001b[0m\u001b[35m/\u001b[0m\u001b[95msignatureName\u001b[0m\u001b[1m>\u001b[0m\n",
       "        \u001b[1m<\u001b[0m\u001b[1;95msignatureDate\u001b[0m\u001b[1m>\u001b[0m\u001b[1;36m2017\u001b[0m-\u001b[1;36m10\u001b[0m-\u001b[1;36m17\u001b[0m\u001b[1m<\u001b[0m\u001b[35m/\u001b[0m\u001b[95msignatureDate\u001b[0m\u001b[1m>\u001b[0m\n",
       "    \u001b[1m<\u001b[0m\u001b[35m/\u001b[0m\u001b[95mownerSignature\u001b[0m\u001b[1m>\u001b[0m\n",
       "\n",
       "    \u001b[1m<\u001b[0m\u001b[1;95mownerSignature\u001b[0m\u001b[1m>\u001b[0m\n",
       "        \u001b[1m<\u001b[0m\u001b[1;95msignatureName\u001b[0m\u001b[1m>\u001b[0m\u001b[35m/s/\u001b[0m Ori Solomon, Attorney in fact for Redmont VAXN Capital Holdings, LLC\u001b[1m<\u001b[0m\u001b[35m/\u001b[0m\u001b[95msignatureName\u001b[0m\u001b[1m>\u001b[0m\n",
       "        \u001b[1m<\u001b[0m\u001b[1;95msignatureDate\u001b[0m\u001b[1m>\u001b[0m\u001b[1;36m2017\u001b[0m-\u001b[1;36m10\u001b[0m-\u001b[1;36m17\u001b[0m\u001b[1m<\u001b[0m\u001b[35m/\u001b[0m\u001b[95msignatureDate\u001b[0m\u001b[1m>\u001b[0m\n",
       "    \u001b[1m<\u001b[0m\u001b[35m/\u001b[0m\u001b[95mownerSignature\u001b[0m\u001b[1m>\u001b[0m\n",
       "\u001b[1m<\u001b[0m\u001b[35m/\u001b[0m\u001b[95mownershipDocument\u001b[0m\u001b[1m>\u001b[0m\n",
       "\u001b[1m<\u001b[0m\u001b[35m/\u001b[0m\u001b[95mXML\u001b[0m\u001b[1m>\u001b[0m\n",
       "\u001b[1m<\u001b[0m\u001b[35m/\u001b[0m\u001b[95mTEXT\u001b[0m\u001b[1m>\u001b[0m\n",
       "\u001b[1m<\u001b[0m\u001b[35m/\u001b[0m\u001b[95mDOCUMENT\u001b[0m\u001b[1m>\u001b[0m\n",
       "\u001b[1m<\u001b[0m\u001b[35m/\u001b[0m\u001b[95mSEC-DOCUMENT\u001b[0m\u001b[1m>\u001b[0m\n",
       "\n"
      ]
     },
     "metadata": {},
     "output_type": "display_data"
    }
   ],
   "source": [
    "from pathlib import Path\n",
    "from rich import print\n",
    "\n",
    "file = Path(\"./data/0001012975-17-000759.txt\")\n",
    "print(file.read_text())"
   ]
  },
  {
   "cell_type": "code",
   "execution_count": null,
   "metadata": {
    "slideshow": {
     "slide_type": "slide"
    }
   },
   "outputs": [],
   "source": [
    "from edgar.utils import create_doc\n",
    "\n",
    "doc = create_doc(file)\n",
    "print(doc.doc_info)\n",
    "print(doc.report_owners)"
   ]
  },
  {
   "cell_type": "code",
   "execution_count": 2,
   "metadata": {
    "slideshow": {
     "slide_type": "slide"
    }
   },
   "outputs": [],
   "source": [
    "import csv\n",
    "\n",
    "out_dir = Path(\"./temp\")\n",
    "\n",
    "doc = create_doc(file)\n",
    "out_file=out_dir / \"document_info.csv\"\n",
    "row_dicts = [doc.doc_info]\n",
    "if len(row_dicts) == 0:\n",
    "    pass\n",
    "if not out_file.exists():\n",
    "    csv_writer = csv.writer(open(out_file, \"a+\", newline=\"\"))\n",
    "    csv_writer.writerow(row_dicts[0].keys())\n",
    "with open(out_file, \"a+\", newline=\"\") as f:\n",
    "    csv_writer = csv.writer(f, quoting=csv.QUOTE_ALL)\n",
    "    for row_dict in row_dicts:\n",
    "        csv_writer.writerow(row_dict.values())\n",
    "        \n",
    "out_file=out_dir / \"report_owners.csv\"\n",
    "row_dicts = doc.report_owners\n",
    "if len(row_dicts) == 0:\n",
    "    pass\n",
    "if not out_file.exists():\n",
    "    csv_writer = csv.writer(open(out_file, \"a+\", newline=\"\"))\n",
    "    csv_writer.writerow(row_dicts[0].keys())\n",
    "with open(out_file, \"a+\", newline=\"\") as f:\n",
    "    csv_writer = csv.writer(f, quoting=csv.QUOTE_ALL)\n",
    "    for row_dict in row_dicts:\n",
    "        csv_writer.writerow(row_dict.values())"
   ]
  },
  {
   "cell_type": "code",
   "execution_count": 12,
   "metadata": {
    "slideshow": {
     "slide_type": "slide"
    }
   },
   "outputs": [],
   "source": [
    "from edgar.utils import write_records\n",
    "\n",
    "??write_records"
   ]
  },
  {
   "cell_type": "code",
   "execution_count": 10,
   "metadata": {
    "slideshow": {
     "slide_type": "fragment"
    }
   },
   "outputs": [],
   "source": [
    "out_dir = Path(\"./temp\")\n",
    "\n",
    "write_records(\n",
    "    [doc.doc_info], \n",
    "    out_file=out_dir/\"document_info.csv\"\n",
    ")\n",
    "write_records(\n",
    "    doc.report_owners, \n",
    "    out_file=out_dir/\"report_owners.csv\"\n",
    ")"
   ]
  },
  {
   "cell_type": "markdown",
   "metadata": {
    "pycharm": {
     "name": "#%% md\n"
    },
    "slideshow": {
     "slide_type": "slide"
    }
   },
   "source": [
    "# <span style=\"color:purple\">Functional Style >> Loops</span>\n",
    "<br>\n",
    "\n",
    "* A. Embedded loops\n",
    "* B. Functional style (apply)"
   ]
  },
  {
   "cell_type": "markdown",
   "metadata": {
    "pycharm": {
     "name": "#%% md\n"
    },
    "slideshow": {
     "slide_type": "slide"
    }
   },
   "source": [
    "# <span style=\"color:purple\">Scripts, Modules, or Notebooks?</span>\n",
    "<br>\n",
    "\n",
    "* A. A bunch of code cells in a notebook\n",
    "* B. Functions placed into installable modules"
   ]
  },
  {
   "cell_type": "markdown",
   "metadata": {
    "pycharm": {
     "name": "#%% md\n"
    },
    "slideshow": {
     "slide_type": "slide"
    }
   },
   "source": [
    "# <span style=\"color:purple\">3: Handling Errors and Exceptions</span>\n",
    "<br>\n",
    "<br>\n",
    "<center><img src=\"figures/castle.jpg\" width=\"50%\" style='border:5px solid #000000'/></center>"
   ]
  },
  {
   "cell_type": "markdown",
   "metadata": {
    "pycharm": {
     "name": "#%% md\n"
    },
    "slideshow": {
     "slide_type": "slide"
    }
   },
   "source": [
    "# <span style=\"color:purple\">MTurk Example</span>\n"
   ]
  },
  {
   "cell_type": "code",
   "execution_count": null,
   "metadata": {
    "pycharm": {
     "name": "#%%\n"
    },
    "slideshow": {
     "slide_type": "slide"
    }
   },
   "outputs": [],
   "source": [
    "def raise_an_exception(flag):\n",
    "    if flag:\n",
    "        raise Exception\n",
    "    else:\n",
    "        print(\"success!\")"
   ]
  },
  {
   "cell_type": "code",
   "execution_count": null,
   "metadata": {
    "pycharm": {
     "name": "#%%\n"
    },
    "slideshow": {
     "slide_type": "slide"
    }
   },
   "outputs": [],
   "source": [
    "l = range(3)\n",
    "print(l)\n",
    "print(l[5])"
   ]
  },
  {
   "cell_type": "markdown",
   "metadata": {
    "pycharm": {
     "name": "#%% md\n"
    },
    "slideshow": {
     "slide_type": "slide"
    }
   },
   "source": [
    "# <span style=\"color:purple\">Try/Except Blocks</span>\n",
    "<br>\n",
    "<br>\n",
    "<table><tr>\n",
    "<td> <img src=\"figures/py_error.png\" style=\"width: 600px;\"/> </td>\n",
    "<td> <img src=\"figures/r_error.png\" style=\"width: 600px\"/> </td>\n",
    "</tr></table>"
   ]
  },
  {
   "cell_type": "markdown",
   "metadata": {
    "pycharm": {
     "name": "#%% md\n"
    },
    "slideshow": {
     "slide_type": "slide"
    }
   },
   "source": [
    "# <span style=\"color:purple\">4: Writing Tests</span>\n",
    "<center><img src=\"figures/bug.jpg\" width=\"40%\" style='border:5px solid #000000'/></center>\n",
    "\n",
    " \n",
    "<span style=\"color:darkblue\">“More than the act of testing, the act of designing tests is one of the best bug preventers known. The thinking that must be done to create a useful test can discover and eliminate bugs before they are coded – indeed, test-design thinking can discover and eliminate bugs at every stage in the creation of software, from conception to specification, to design, coding and the rest.” (Boris Beizer)</span>"
   ]
  },
  {
   "cell_type": "markdown",
   "metadata": {
    "pycharm": {
     "name": "#%% md\n"
    },
    "slideshow": {
     "slide_type": "slide"
    }
   },
   "source": [
    "# <span style=\"color:purple\">Unit Testing</span>\n",
    "<center><img src=\"figures/testing-levels.png\" width=\"40%\" style='border:5px solid #000000'/></center>\n",
    "\n",
    "<br>\n",
    "\n",
    "* Unit tests specifically test a single “unit” of the code in isolation.  For instance, testing a single class, function, module etc.\n",
    "* Each unit test has three parts: (1) setup, (2) activate, (3) assert"
   ]
  }
 ],
 "metadata": {
  "celltoolbar": "Slideshow",
  "kernelspec": {
   "display_name": "Python 3 (ipykernel)",
   "language": "python",
   "name": "python3"
  },
  "language_info": {
   "codemirror_mode": {
    "name": "ipython",
    "version": 3
   },
   "file_extension": ".py",
   "mimetype": "text/x-python",
   "name": "python",
   "nbconvert_exporter": "python",
   "pygments_lexer": "ipython3",
   "version": "3.10.5"
  },
  "nteract": {
   "version": "0.28.0"
  }
 },
 "nbformat": 4,
 "nbformat_minor": 4
}
