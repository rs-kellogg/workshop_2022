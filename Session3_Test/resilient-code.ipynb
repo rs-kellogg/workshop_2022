{
 "cells": [
  {
   "cell_type": "markdown",
   "metadata": {
    "slideshow": {
     "slide_type": "slide"
    },
    "pycharm": {
     "name": "#%% md\n"
    }
   },
   "source": [
    "# <span style=\"color:purple\">Resilient Code</span>\n",
    "\n",
    "\n",
    "## July, 2022"
   ]
  },
  {
   "cell_type": "markdown",
   "metadata": {
    "slideshow": {
     "slide_type": "slide"
    },
    "pycharm": {
     "name": "#%% md\n"
    }
   },
   "source": [
    "<center><img src=\"figures/good_code.png\" width=\"35%\" style='border:5px solid #000000'/></center>\n",
    "<center> https://www.xkcd.com </center>"
   ]
  },
  {
   "cell_type": "markdown",
   "metadata": {
    "slideshow": {
     "slide_type": "slide"
    },
    "pycharm": {
     "name": "#%% md\n"
    }
   },
   "source": [
    "# <span style=\"color:purple\">What is code resilience?</span>\n",
    "<br>"
   ]
  },
  {
   "cell_type": "markdown",
   "metadata": {
    "slideshow": {
     "slide_type": "fragment"
    },
    "pycharm": {
     "name": "#%% md\n"
    }
   },
   "source": [
    "<span style=\"color:purple\">Code that is capable of performing without failure (or at least failing gracefully) under a wide range of conditions. Code must handle:\n",
    "</span>\n",
    "<br>"
   ]
  },
  {
   "cell_type": "markdown",
   "metadata": {
    "slideshow": {
     "slide_type": "fragment"
    },
    "pycharm": {
     "name": "#%% md\n"
    }
   },
   "source": [
    "* planned or unplanned changes, such as bug fixes and adding new features"
   ]
  },
  {
   "cell_type": "markdown",
   "metadata": {
    "slideshow": {
     "slide_type": "fragment"
    },
    "pycharm": {
     "name": "#%% md\n"
    }
   },
   "source": [
    "* unexpected inputs"
   ]
  },
  {
   "cell_type": "markdown",
   "metadata": {
    "slideshow": {
     "slide_type": "fragment"
    },
    "pycharm": {
     "name": "#%% md\n"
    }
   },
   "source": [
    "* unexpected events"
   ]
  },
  {
   "cell_type": "markdown",
   "metadata": {
    "slideshow": {
     "slide_type": "slide"
    },
    "pycharm": {
     "name": "#%% md\n"
    }
   },
   "source": [
    "# <span style=\"color:purple\">1: Designing Clean Code</span>\n",
    "<center><img src=\"figures/hoare.jpg\" width=\"30%\" style='border:5px solid #000000'/></center>\n",
    "\n",
    "<span style=\"color:darkblue\">There are two ways of constructing a software design: One way is to make it so simple that there are obviously no deficiencies, and the other way is to make it so complicated that there are no obvious deficiencies. The first method is far more difficult. (C.A.R. Hoare)</span>"
   ]
  },
  {
   "cell_type": "markdown",
   "metadata": {
    "pycharm": {
     "name": "#%% md\n"
    }
   },
   "source": [
    "Addresses the three issues how?"
   ]
  },
  {
   "cell_type": "markdown",
   "metadata": {
    "slideshow": {
     "slide_type": "slide"
    },
    "pycharm": {
     "name": "#%% md\n"
    }
   },
   "source": [
    "# <span style=\"color:purple\">Designing Clean Code: Which is Better?</span>\n",
    "<br>\n",
    "\n",
    "* A. Embedded loops\n",
    "* B. Functional style (apply)"
   ]
  },
  {
   "cell_type": "markdown",
   "metadata": {
    "slideshow": {
     "slide_type": "slide"
    },
    "pycharm": {
     "name": "#%% md\n"
    }
   },
   "source": [
    "# <span style=\"color:purple\">Designing Clean Code: Which is Better?</span>\n",
    "<br>\n",
    "\n",
    "* A. Copy and pasted code\n",
    "* B. Functions and classes"
   ]
  },
  {
   "cell_type": "markdown",
   "metadata": {
    "slideshow": {
     "slide_type": "slide"
    },
    "pycharm": {
     "name": "#%% md\n"
    }
   },
   "source": [
    "# <span style=\"color:purple\">Designing Clean Code: Which is Better?</span>\n",
    "<br>\n",
    "\n",
    "* A. A bunch of code cells in a notebook\n",
    "* B. Functions placed into installable modules"
   ]
  },
  {
   "cell_type": "markdown",
   "metadata": {
    "slideshow": {
     "slide_type": "slide"
    },
    "pycharm": {
     "name": "#%% md\n"
    }
   },
   "source": [
    "# <span style=\"color:purple\">2: Making Code Robust</span>\n",
    "<center><img src=\"figures/robust.png\" width=\"50%\" style='border:5px solid #000000'/></center>\n",
    "\n",
    "Code that can handle both unexpected inputs and unexpected events\n",
    "<br>\n",
    "<br>"
   ]
  },
  {
   "cell_type": "markdown",
   "metadata": {
    "slideshow": {
     "slide_type": "slide"
    },
    "pycharm": {
     "name": "#%% md\n"
    }
   },
   "source": [
    "# <span style=\"color:purple\">Making Code Robust: Which is Better?</span>\n",
    "<br>\n",
    "\n",
    "* A. Running a script on KLC without logging\n",
    "* B. Running a script with incremental logging of results"
   ]
  },
  {
   "cell_type": "markdown",
   "metadata": {
    "slideshow": {
     "slide_type": "slide"
    },
    "pycharm": {
     "name": "#%% md\n"
    }
   },
   "source": [
    "# <span style=\"color:purple\">Making Code Robust: Which is Better?</span>\n",
    "<br>\n",
    "\n",
    "* A. Processing inputs with rigid assumptions on structure\n",
    "* B. Processing inputs, testing to make sure structure is as expected, log exceptions that can't be handled"
   ]
  },
  {
   "cell_type": "markdown",
   "metadata": {
    "slideshow": {
     "slide_type": "slide"
    },
    "pycharm": {
     "name": "#%% md\n"
    }
   },
   "source": [
    "# <span style=\"color:purple\">Making Code Robust: Which is Better?</span>\n",
    "<br>\n",
    "\n",
    "* A. Not handling unexpected characters in a regex?\n",
    "* B. Handling exceptional inputs by testing result."
   ]
  },
  {
   "cell_type": "markdown",
   "metadata": {
    "slideshow": {
     "slide_type": "slide"
    },
    "pycharm": {
     "name": "#%% md\n"
    }
   },
   "source": [
    "# <span style=\"color:purple\">Making Code Robust: Exception Handling</span>\n",
    "<br>\n",
    "<center><img src=\"figures/py_error.png\" width=\"50%\" style='border:5px solid #000000'/></center>\n",
    "\n",
    "Add R picture here as well"
   ]
  },
  {
   "cell_type": "markdown",
   "metadata": {
    "slideshow": {
     "slide_type": "slide"
    },
    "pycharm": {
     "name": "#%% md\n"
    }
   },
   "source": [
    "# <span style=\"color:purple\">Making Code Robust: Containers</span>\n",
    "<br>\n",
    "<center><img src=\"figures/docker.png\" width=\"40%\" style='border:5px solid #000000'/></center>\n"
   ]
  },
  {
   "cell_type": "markdown",
   "metadata": {
    "slideshow": {
     "slide_type": "slide"
    },
    "pycharm": {
     "name": "#%% md\n"
    }
   },
   "source": [
    "# <span style=\"color:purple\">3: Testing Code</span>\n",
    "<center><img src=\"figures/bug.jpg\" width=\"40%\" style='border:5px solid #000000'/></center>\n",
    "\n",
    " \n",
    "<span style=\"color:darkblue\">“More than the act of testing, the act of designing tests is one of the best bug preventers known. The thinking that must be done to create a useful test can discover and eliminate bugs before they are coded – indeed, test-design thinking can discover and eliminate bugs at every stage in the creation of software, from conception to specification, to design, coding and the rest.” (Boris Beizer)</span>"
   ]
  },
  {
   "cell_type": "markdown",
   "metadata": {
    "slideshow": {
     "slide_type": "slide"
    },
    "pycharm": {
     "name": "#%% md\n"
    }
   },
   "source": [
    "# <span style=\"color:purple\">Unit Testing</span>\n",
    "<br>\n",
    "<br>\n",
    "\n",
    "* Testing code (separate from application code) that invokes the code it tests to determine if there are any errors. \n",
    "* It does not prove code is correct, but rather reports if the conditions provided in the tester are handled correctly\n",
    "* Unit tests specifically test a single “unit” of the code in isolation.  For instance, testing a single class, function, module etc."
   ]
  },
  {
   "cell_type": "markdown",
   "metadata": {
    "slideshow": {
     "slide_type": "slide"
    },
    "pycharm": {
     "name": "#%% md\n"
    }
   },
   "source": [
    "```python\n",
    "@pytest.mark.parametrize(\"doc_num\", range(100))\n",
    "def test_extract_doclevel_form3_collection(test_form3):\n",
    "    \"\"\"\n",
    "    Validate Form3 extraction code against a random sample of documents\n",
    "    :param test_form3_collection:\n",
    "    :return:\n",
    "    \"\"\"\n",
    "    file = list(test_form3_collection.glob('*.txt'))[doc_num]\n",
    "    doc = (file)\n",
    "    assert doc.filename == file.name\n",
    "    fields = doc.doc_info \n",
    "    assert len(fields) == 19\n",
    "    assert fields[\"filename\"] == file.name\n",
    "    assert fields[\"schema_version\"] == \"X0206\"\n",
    "    assert fields[\"document_type\"] == \"3\"\n",
    "```"
   ]
  }
 ],
 "metadata": {
  "celltoolbar": "Slideshow",
  "kernelspec": {
   "display_name": "Python 3 (ipykernel)",
   "language": "python",
   "name": "python3"
  },
  "language_info": {
   "codemirror_mode": {
    "name": "ipython",
    "version": 3
   },
   "file_extension": ".py",
   "mimetype": "text/x-python",
   "name": "python",
   "nbconvert_exporter": "python",
   "pygments_lexer": "ipython3",
   "version": "3.10.4"
  },
  "nteract": {
   "version": "0.28.0"
  }
 },
 "nbformat": 4,
 "nbformat_minor": 4
}