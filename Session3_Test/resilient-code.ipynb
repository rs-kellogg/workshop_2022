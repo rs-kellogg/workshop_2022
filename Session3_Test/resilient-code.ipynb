{
 "cells": [
  {
   "cell_type": "markdown",
   "metadata": {
    "pycharm": {
     "name": "#%% md\n"
    },
    "slideshow": {
     "slide_type": "slide"
    }
   },
   "source": [
    "# <span style=\"color:purple\">Resilient Code</span>\n",
    "\n",
    "## <span style=\"color:purple\">Ph.D. Workshop - Session 3</span>\n",
    "\n",
    "\n",
    "## July 15, 2022"
   ]
  },
  {
   "cell_type": "markdown",
   "metadata": {
    "pycharm": {
     "name": "#%% md\n"
    },
    "slideshow": {
     "slide_type": "slide"
    }
   },
   "source": [
    "# <span style=\"color:purple\">What is code resilience?</span>\n",
    "<br>"
   ]
  },
  {
   "cell_type": "markdown",
   "metadata": {
    "pycharm": {
     "name": "#%% md\n"
    },
    "slideshow": {
     "slide_type": "fragment"
    }
   },
   "source": [
    "<span style=\"color:purple\">Code that is capable of performing without failure (or at least failing gracefully) under a wide range of conditions. Code must be able to:\n",
    "</span>\n",
    "<br>"
   ]
  },
  {
   "cell_type": "markdown",
   "metadata": {
    "pycharm": {
     "name": "#%% md\n"
    },
    "slideshow": {
     "slide_type": "fragment"
    }
   },
   "source": [
    "* handle unexpected inputs"
   ]
  },
  {
   "cell_type": "markdown",
   "metadata": {
    "pycharm": {
     "name": "#%% md\n"
    },
    "slideshow": {
     "slide_type": "fragment"
    }
   },
   "source": [
    "* handle unexpected events"
   ]
  },
  {
   "cell_type": "markdown",
   "metadata": {
    "pycharm": {
     "name": "#%% md\n"
    },
    "slideshow": {
     "slide_type": "fragment"
    }
   },
   "source": [
    "* make it possible to add new features"
   ]
  },
  {
   "cell_type": "markdown",
   "metadata": {
    "pycharm": {
     "name": "#%% md\n"
    },
    "slideshow": {
     "slide_type": "fragment"
    }
   },
   "source": [
    "* make it possible to fix bugs"
   ]
  },
  {
   "cell_type": "markdown",
   "metadata": {
    "slideshow": {
     "slide_type": "slide"
    }
   },
   "source": [
    "# <span style=\"color:purple\">Topics</span>\n",
    "<br>\n",
    "\n",
    "1. Creating Environments\n",
    "2. Writing Clean Code\n",
    "3. Handling Errors and Exceptions\n",
    "4. Writing Tests"
   ]
  },
  {
   "cell_type": "markdown",
   "metadata": {
    "pycharm": {
     "name": "#%% md\n"
    },
    "slideshow": {
     "slide_type": "slide"
    }
   },
   "source": [
    "# <span style=\"color:purple\">1. Creating Environments</span>\n",
    "<br>\n"
   ]
  },
  {
   "cell_type": "markdown",
   "metadata": {
    "pycharm": {
     "name": "#%% md\n"
    },
    "slideshow": {
     "slide_type": "slide"
    }
   },
   "source": [
    "# <span style=\"color:purple\">Reproducibility</span>\n",
    "<br>\n",
    "<center><img src=\"figures/reproducibility.png\" width=\"60%\" style='border:5px solid #000000'/></center>"
   ]
  },
  {
   "cell_type": "markdown",
   "metadata": {
    "pycharm": {
     "name": "#%% md\n"
    },
    "slideshow": {
     "slide_type": "slide"
    }
   },
   "source": [
    "# <span style=\"color:purple\">2: Writing Clean Code</span>\n",
    "\n",
    "<span style=\"color:darkblue\">There are two ways of constructing a software design: One way is to make it so simple that there are obviously no deficiencies, and the other way is to make it so complicated that there are no obvious deficiencies. The first method is far more difficult. (C.A.R. Hoare)</span>"
   ]
  },
  {
   "cell_type": "markdown",
   "metadata": {
    "pycharm": {
     "name": "#%% md\n"
    },
    "slideshow": {
     "slide_type": "slide"
    }
   },
   "source": [
    "# <span style=\"color:purple\">Don't Repeat Yourself!</span>\n",
    "<br>\n",
    "\n",
    "<table><tr>\n",
    "<td> <img src=\"figures/keep-dry.jpg\" style=\"width: 500px;\"/> </td>\n",
    "</tr></table>\n",
    "\n"
   ]
  },
  {
   "cell_type": "code",
   "execution_count": null,
   "metadata": {
    "slideshow": {
     "slide_type": "fragment"
    }
   },
   "outputs": [],
   "source": [
    "from pathlib import Path\n",
    "from rich import print\n",
    "\n",
    "file = Path(\"./data/0001012975-17-000759.txt\")\n",
    "print(file.read_text())"
   ]
  },
  {
   "cell_type": "code",
   "execution_count": null,
   "metadata": {
    "slideshow": {
     "slide_type": "slide"
    }
   },
   "outputs": [],
   "source": [
    "from edgar.utils import create_doc\n",
    "\n",
    "doc = create_doc(file)\n",
    "print(doc.doc_info)\n",
    "print(doc.report_owners)"
   ]
  },
  {
   "cell_type": "code",
   "execution_count": null,
   "metadata": {
    "slideshow": {
     "slide_type": "slide"
    }
   },
   "outputs": [],
   "source": [
    "import csv\n",
    "\n",
    "out_dir = Path(\"./temp\")\n",
    "\n",
    "doc = create_doc(file)\n",
    "out_file=out_dir / \"document_info.csv\"\n",
    "row_dicts = [doc.doc_info]\n",
    "if len(row_dicts) == 0:\n",
    "    pass\n",
    "if not out_file.exists():\n",
    "    csv_writer = csv.writer(open(out_file, \"a+\", newline=\"\"))\n",
    "    csv_writer.writerow(row_dicts[0].keys())\n",
    "with open(out_file, \"a+\", newline=\"\") as f:\n",
    "    csv_writer = csv.writer(f, quoting=csv.QUOTE_ALL)\n",
    "    for row_dict in row_dicts:\n",
    "        csv_writer.writerow(row_dict.values())\n",
    "        \n",
    "out_file=out_dir / \"report_owners.csv\"\n",
    "row_dicts = doc.report_owners\n",
    "if len(row_dicts) == 0:\n",
    "    pass\n",
    "if not out_file.exists():\n",
    "    csv_writer = csv.writer(open(out_file, \"a+\", newline=\"\"))\n",
    "    csv_writer.writerow(row_dicts[0].keys())\n",
    "with open(out_file, \"a+\", newline=\"\") as f:\n",
    "    csv_writer = csv.writer(f, quoting=csv.QUOTE_ALL)\n",
    "    for row_dict in row_dicts:\n",
    "        csv_writer.writerow(row_dict.values())"
   ]
  },
  {
   "cell_type": "code",
   "execution_count": 1,
   "metadata": {
    "slideshow": {
     "slide_type": "slide"
    }
   },
   "outputs": [],
   "source": [
    "from edgar.utils import write_records\n",
    "\n",
    "??write_records"
   ]
  },
  {
   "cell_type": "code",
   "execution_count": null,
   "metadata": {
    "slideshow": {
     "slide_type": "fragment"
    }
   },
   "outputs": [],
   "source": [
    "out_dir = Path(\"./temp\")\n",
    "\n",
    "write_records(\n",
    "    [doc.doc_info], \n",
    "    out_file=out_dir/\"document_info.csv\"\n",
    ")\n",
    "write_records(\n",
    "    doc.report_owners, \n",
    "    out_file=out_dir/\"report_owners.csv\"\n",
    ")"
   ]
  },
  {
   "cell_type": "markdown",
   "metadata": {
    "pycharm": {
     "name": "#%% md\n"
    },
    "slideshow": {
     "slide_type": "slide"
    }
   },
   "source": [
    "# <span style=\"color:purple\">Prefer to use Pre-Existing Libraries</span>\n",
    "<br>\n",
    "<center><img src=\"figures/functional.webp\" width=\"75%\" style='border:3px solid #000000'/></center>"
   ]
  },
  {
   "cell_type": "code",
   "execution_count": 2,
   "metadata": {
    "slideshow": {
     "slide_type": "slide"
    }
   },
   "outputs": [
    {
     "name": "stdout",
     "output_type": "stream",
     "text": [
      "200000\n",
      "[0.32542385 0.83287718 0.864878   ... 0.67584775 0.78238292 0.68153343]\n"
     ]
    }
   ],
   "source": [
    "import numpy as np\n",
    "\n",
    "array = np.random.rand(200_000)\n",
    "print(len(array))\n",
    "print(array)"
   ]
  },
  {
   "cell_type": "code",
   "execution_count": 3,
   "metadata": {
    "slideshow": {
     "slide_type": "slide"
    }
   },
   "outputs": [
    {
     "name": "stdout",
     "output_type": "stream",
     "text": [
      "CPU times: user 42.8 ms, sys: 2.26 ms, total: 45.1 ms\n",
      "Wall time: 44.3 ms\n"
     ]
    },
    {
     "data": {
      "text/plain": [
       "99837.97045458334"
      ]
     },
     "execution_count": 3,
     "metadata": {},
     "output_type": "execute_result"
    }
   ],
   "source": [
    "%%time\n",
    "total = 0\n",
    "for i in range(len(array)):\n",
    "    total += array[i]\n",
    "total"
   ]
  },
  {
   "cell_type": "code",
   "execution_count": 4,
   "metadata": {
    "slideshow": {
     "slide_type": "slide"
    }
   },
   "outputs": [
    {
     "name": "stdout",
     "output_type": "stream",
     "text": [
      "CPU times: user 347 µs, sys: 64 µs, total: 411 µs\n",
      "Wall time: 232 µs\n"
     ]
    },
    {
     "data": {
      "text/plain": [
       "99837.97045458162"
      ]
     },
     "execution_count": 4,
     "metadata": {},
     "output_type": "execute_result"
    }
   ],
   "source": [
    "%%time\n",
    "np.sum(array)"
   ]
  },
  {
   "cell_type": "markdown",
   "metadata": {
    "pycharm": {
     "name": "#%% md\n"
    },
    "slideshow": {
     "slide_type": "slide"
    }
   },
   "source": [
    "# <span style=\"color:purple\">Scripts, Modules, or Notebooks?</span>\n",
    "<br>\n",
    "\n",
    "<center><img src=\"figures/notes.jpg\" width=\"50%\" style='border:5px solid #000000'/></center>"
   ]
  },
  {
   "cell_type": "markdown",
   "metadata": {
    "pycharm": {
     "name": "#%% md\n"
    },
    "slideshow": {
     "slide_type": "slide"
    }
   },
   "source": [
    "# <span style=\"color:purple\">3: Handling Errors and Exceptions</span>\n",
    "<br>\n",
    "<br>\n",
    "<center><img src=\"figures/castle.jpg\" width=\"50%\" style='border:5px solid #000000'/></center>"
   ]
  },
  {
   "cell_type": "markdown",
   "metadata": {
    "pycharm": {
     "name": "#%% md\n"
    },
    "slideshow": {
     "slide_type": "slide"
    }
   },
   "source": [
    "# <span style=\"color:purple\">Try-Catch Blocks</span>\n",
    "<br>"
   ]
  },
  {
   "cell_type": "code",
   "execution_count": null,
   "metadata": {
    "pycharm": {
     "name": "#%%\n"
    },
    "slideshow": {
     "slide_type": "slide"
    }
   },
   "outputs": [],
   "source": [
    "numbers = list(range(10))\n",
    "print(numbers)\n",
    "print(numbers[5])\n",
    "print(numbers[11])"
   ]
  },
  {
   "cell_type": "code",
   "execution_count": null,
   "metadata": {
    "pycharm": {
     "name": "#%%\n"
    },
    "slideshow": {
     "slide_type": "slide"
    }
   },
   "outputs": [],
   "source": [
    "def raise_an_exception(flag):\n",
    "    if flag:\n",
    "        raise Exception(\"oops!\")\n",
    "    else:\n",
    "        print(\"success!\")\n",
    "        \n",
    "raise_an_exception(False)\n",
    "raise_an_exception(True)\n",
    "print(\"hello world!\")"
   ]
  },
  {
   "cell_type": "code",
   "execution_count": null,
   "metadata": {
    "slideshow": {
     "slide_type": "slide"
    }
   },
   "outputs": [],
   "source": [
    "try:\n",
    "    raise_an_exception(True)\n",
    "except Exception as e:\n",
    "    print(e)\n",
    "print(\"hello world!\")"
   ]
  },
  {
   "cell_type": "markdown",
   "metadata": {
    "pycharm": {
     "name": "#%% md\n"
    },
    "slideshow": {
     "slide_type": "slide"
    }
   },
   "source": [
    "# <span style=\"color:purple\">Example: Bonusing MTurk Workers</span>\n"
   ]
  },
  {
   "cell_type": "markdown",
   "metadata": {
    "pycharm": {
     "name": "#%% md\n"
    }
   },
   "source": [
    "```python\n",
    "# original version\n",
    "def send_bonus(client: BaseClient, df: pd.DataFrame) -> pd.DataFrame:\n",
    "    rows = df.to_dict(orient=\"records\")\n",
    "    for row in rows:\n",
    "        mid = row[\"mid\"]\n",
    "        bonus = row[\"bonus\"]\n",
    "        message = row[\"message\"]\n",
    "        assignment_id = row[\"assignment_id\"]\n",
    "        response = client.send_bonus(\n",
    "            WorkerId=mid,\n",
    "            BonusAmount=f\"{bonus}\",\n",
    "            AssignmentId=assignment_id,\n",
    "            Reason=message,\n",
    "        row[\"response\"] = response\n",
    "    return pd.DataFrame(rows)\n",
    "\n",
    "            \n",
    "# calling code\n",
    "result_df = m.send_bonus(client, bonus_data, force)\n",
    "result_df.to_csv(\n",
    "    out_dir / f\"bonuses_{datetime.now().strftime('%Y-%m-%d-%H-%M-%S')}.csv\",\n",
    "    index=False,\n",
    ")\n",
    "```"
   ]
  },
  {
   "cell_type": "markdown",
   "metadata": {
    "pycharm": {
     "name": "#%% md\n"
    }
   },
   "source": [
    "```python\n",
    "# updated version\n",
    "def send_bonus(client: BaseClient, df: pd.DataFrame, force: bool) -> pd.DataFrame:\n",
    "    rows = df.to_dict(orient=\"records\")\n",
    "    for row in rows:\n",
    "        mid = row[\"mid\"]\n",
    "        bonus = row[\"bonus\"]\n",
    "        message = row[\"message\"]\n",
    "        assignment_id = row[\"assignment_id\"]\n",
    "        try:\n",
    "            if bonus == 0:\n",
    "                raise Exception(\n",
    "                    f\"Trying to send $0.00 bonus for assignment {assignment_id}\"\n",
    "                )\n",
    "            prev_bonuses = list_bonus_payments_for_assignment(client, assignment_id)\n",
    "            if len(prev_bonuses) > 0 and not force:\n",
    "                raise Exception(\n",
    "                    f\"Previous bonus has been sent for assignment {assignment_id}\"\n",
    "                )\n",
    "            response = client.send_bonus(\n",
    "                WorkerId=mid,\n",
    "                BonusAmount=f\"{bonus}\",\n",
    "                AssignmentId=assignment_id,\n",
    "                Reason=message,\n",
    "            )\n",
    "            row[\"response\"] = response\n",
    "        except Exception as e:\n",
    "            print(e)\n",
    "            row[\"response\"] = str(e)\n",
    "    return pd.DataFrame(rows)\n",
    "\n",
    "            \n",
    "# calling code\n",
    "result_df = m.send_bonus(client, bonus_data, force)\n",
    "result_df.to_csv(\n",
    "    out_dir / f\"bonuses_{datetime.now().strftime('%Y-%m-%d-%H-%M-%S')}.csv\",\n",
    "    index=False,\n",
    ")\n",
    "```"
   ]
  },
  {
   "cell_type": "markdown",
   "metadata": {
    "pycharm": {
     "name": "#%% md\n"
    },
    "slideshow": {
     "slide_type": "slide"
    }
   },
   "source": [
    "# <span style=\"color:purple\">4: Writing Tests</span>\n",
    "<center><img src=\"figures/bug.jpg\" width=\"40%\" style='border:5px solid #000000'/></center>\n",
    "<br>\n",
    "\n",
    "<span style=\"color:darkblue\">“More than the act of testing, the act of designing tests is one of the best bug preventers known. The thinking that must be done to create a useful test can discover and eliminate bugs before they are coded – indeed, test-design thinking can discover and eliminate bugs at every stage in the creation of software, from conception to specification, to design, coding and the rest.” (Boris Beizer)</span>"
   ]
  },
  {
   "cell_type": "markdown",
   "metadata": {
    "pycharm": {
     "name": "#%% md\n"
    },
    "slideshow": {
     "slide_type": "slide"
    }
   },
   "source": [
    "# <span style=\"color:purple\">Agile Coding</span>\n",
    "<br>\n",
    "<center><img src=\"figures/agile.jpg\" width=\"60%\" style='border:5px solid #000000'/></center>\n",
    "<br>"
   ]
  },
  {
   "cell_type": "markdown",
   "metadata": {
    "pycharm": {
     "name": "#%% md\n"
    },
    "slideshow": {
     "slide_type": "slide"
    }
   },
   "source": [
    "# <span style=\"color:purple\">Types of Testing</span>\n",
    "<br>\n",
    "<center><img src=\"figures/testing-levels.png\" width=\"60%\" style='border:5px solid #000000'/></center>\n",
    "<br>"
   ]
  },
  {
   "cell_type": "markdown",
   "metadata": {
    "slideshow": {
     "slide_type": "slide"
    }
   },
   "source": [
    "# <span style=\"color:purple\">Unit Testing</span>\n",
    "<br>\n",
    "<center><img src=\"figures/unit-testing-puzzle.png\" width=\"50%\" style='border:5px solid #000000'/></center>\n",
    "<br>\n",
    "* Goal: test a single “unit” of the code in isolation.  For instance, execute a single function with a range of inputs and validate the corresponding outputs"
   ]
  },
  {
   "cell_type": "markdown",
   "metadata": {
    "slideshow": {
     "slide_type": "subslide"
    }
   },
   "source": [
    "# <span style=\"color:purple\">Unit Testing</span>\n",
    "<br>\n",
    "\n",
    "* Proper unit testing is automatic, not manual\n",
    "* Each unit test has three parts: (1) setup input (2) activate code, and (3) assert result\n",
    "* Best to write code and tests at the same time!"
   ]
  }
 ],
 "metadata": {
  "celltoolbar": "Slideshow",
  "kernelspec": {
   "display_name": "Python 3 (ipykernel)",
   "language": "python",
   "name": "python3"
  },
  "language_info": {
   "codemirror_mode": {
    "name": "ipython",
    "version": 3
   },
   "file_extension": ".py",
   "mimetype": "text/x-python",
   "name": "python",
   "nbconvert_exporter": "python",
   "pygments_lexer": "ipython3",
   "version": "3.10.5"
  },
  "nteract": {
   "version": "0.28.0"
  }
 },
 "nbformat": 4,
 "nbformat_minor": 4
}
