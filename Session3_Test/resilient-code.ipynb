{
 "cells": [
  {
   "cell_type": "markdown",
   "metadata": {
    "pycharm": {
     "name": "#%% md\n"
    },
    "slideshow": {
     "slide_type": "slide"
    }
   },
   "source": [
    "# <span style=\"color:purple\">Resilient Code</span>\n",
    "\n",
    "## <span style=\"color:purple\">Ph.D. Workshop - Session 3</span>\n",
    "\n",
    "\n",
    "## July 15, 2022"
   ]
  },
  {
   "cell_type": "markdown",
   "metadata": {
    "pycharm": {
     "name": "#%% md\n"
    },
    "slideshow": {
     "slide_type": "slide"
    }
   },
   "source": [
    "# <span style=\"color:purple\">What is code resilience?</span>\n",
    "<br>"
   ]
  },
  {
   "cell_type": "markdown",
   "metadata": {
    "pycharm": {
     "name": "#%% md\n"
    },
    "slideshow": {
     "slide_type": "fragment"
    }
   },
   "source": [
    "<span style=\"color:purple\">Code that is capable of performing without failure (or at least failing gracefully) under a wide range of conditions. Code must handle:\n",
    "</span>\n",
    "<br>"
   ]
  },
  {
   "cell_type": "markdown",
   "metadata": {
    "pycharm": {
     "name": "#%% md\n"
    },
    "slideshow": {
     "slide_type": "fragment"
    }
   },
   "source": [
    "* planned or unplanned changes, inccluding bug fixes and adding new features"
   ]
  },
  {
   "cell_type": "markdown",
   "metadata": {
    "pycharm": {
     "name": "#%% md\n"
    },
    "slideshow": {
     "slide_type": "fragment"
    }
   },
   "source": [
    "* unexpected inputs"
   ]
  },
  {
   "cell_type": "markdown",
   "metadata": {
    "pycharm": {
     "name": "#%% md\n"
    },
    "slideshow": {
     "slide_type": "fragment"
    }
   },
   "source": [
    "* unexpected events"
   ]
  },
  {
   "cell_type": "markdown",
   "metadata": {
    "slideshow": {
     "slide_type": "slide"
    }
   },
   "source": [
    "# <span style=\"color:purple\">Topics</span>\n",
    "<br>\n",
    "\n",
    "* ## 1. Creating Code Environments\n",
    "* ## 2. Writing Clean Code\n",
    "* ## 3. Exception Handling\n",
    "* ## 4. Writing Tests"
   ]
  },
  {
   "cell_type": "markdown",
   "metadata": {
    "pycharm": {
     "name": "#%% md\n"
    },
    "slideshow": {
     "slide_type": "slide"
    }
   },
   "source": [
    "# <span style=\"color:purple\">1. Environments</span>\n",
    "<br>\n",
    "<center><img src=\"figures/conda-envs.png\" width=\"40%\" style='border:5px solid #000000'/></center>\n"
   ]
  },
  {
   "cell_type": "markdown",
   "metadata": {
    "pycharm": {
     "name": "#%% md\n"
    },
    "slideshow": {
     "slide_type": "slide"
    }
   },
   "source": [
    "# <span style=\"color:purple\">Containers</span>\n",
    "<br>\n",
    "<center><img src=\"figures/docker.png\" width=\"40%\" style='border:5px solid #000000'/></center>\n"
   ]
  },
  {
   "cell_type": "markdown",
   "metadata": {
    "pycharm": {
     "name": "#%% md\n"
    },
    "slideshow": {
     "slide_type": "slide"
    }
   },
   "source": [
    "# <span style=\"color:purple\">2: Designing Clean Code</span>\n",
    "<!-- <center><img src=\"figures/hoare.jpg\" width=\"30%\" style='border:5px solid #000000'/></center>\n",
    " -->\n",
    "\n",
    "<table><tr>\n",
    "<td> <img src=\"figures/good_code.png\" style=\"width: 300px;\"/> </td>\n",
    "<td> <img src=\"figures/spaghetti.jpg\" style=\"width: 500px\"/> </td>\n",
    "</tr></table>\n",
    "\n",
    "<span style=\"color:darkblue\">There are two ways of constructing a software design: One way is to make it so simple that there are obviously no deficiencies, and the other way is to make it so complicated that there are no obvious deficiencies. The first method is far more difficult. (C.A.R. Hoare)</span>"
   ]
  },
  {
   "cell_type": "markdown",
   "metadata": {
    "pycharm": {
     "name": "#%% md\n"
    },
    "slideshow": {
     "slide_type": "slide"
    }
   },
   "source": [
    "# <span style=\"color:purple\">Which is Better?</span>\n",
    "<br>\n",
    "\n",
    "* A. Copy and pasted code\n",
    "* B. Functions and classes"
   ]
  },
  {
   "cell_type": "markdown",
   "metadata": {
    "pycharm": {
     "name": "#%% md\n"
    },
    "slideshow": {
     "slide_type": "slide"
    }
   },
   "source": [
    "# <span style=\"color:purple\">Which is Better?</span>\n",
    "<br>\n",
    "\n",
    "* A. Embedded loops\n",
    "* B. Functional style (apply)"
   ]
  },
  {
   "cell_type": "markdown",
   "metadata": {
    "pycharm": {
     "name": "#%% md\n"
    },
    "slideshow": {
     "slide_type": "slide"
    }
   },
   "source": [
    "# <span style=\"color:purple\">Which is Better?</span>\n",
    "<br>\n",
    "\n",
    "* A. A bunch of code cells in a notebook\n",
    "* B. Functions placed into installable modules"
   ]
  },
  {
   "cell_type": "markdown",
   "metadata": {
    "pycharm": {
     "name": "#%% md\n"
    },
    "slideshow": {
     "slide_type": "slide"
    }
   },
   "source": [
    "# <span style=\"color:purple\">3: Exception Handling</span>\n",
    "<center><img src=\"figures/robust.png\" width=\"50%\" style='border:5px solid #000000'/></center>\n",
    "\n",
    "Code that can handle both unexpected inputs and unexpected events\n",
    "<br>\n",
    "<br>"
   ]
  },
  {
   "cell_type": "markdown",
   "metadata": {
    "pycharm": {
     "name": "#%% md\n"
    },
    "slideshow": {
     "slide_type": "slide"
    }
   },
   "source": [
    "# <span style=\"color:purple\">MTurk Example</span>\n"
   ]
  },
  {
   "cell_type": "code",
   "execution_count": 1,
   "metadata": {
    "pycharm": {
     "name": "#%%\n"
    },
    "slideshow": {
     "slide_type": "slide"
    }
   },
   "outputs": [],
   "source": [
    "def raise_an_exception(flag):\n",
    "    if flag:\n",
    "        raise Exception\n",
    "    else:\n",
    "        print(\"success!\")"
   ]
  },
  {
   "cell_type": "code",
   "execution_count": 2,
   "metadata": {
    "pycharm": {
     "name": "#%%\n"
    },
    "slideshow": {
     "slide_type": "slide"
    }
   },
   "outputs": [
    {
     "name": "stdout",
     "output_type": "stream",
     "text": [
      "range(0, 3)\n"
     ]
    },
    {
     "ename": "IndexError",
     "evalue": "range object index out of range",
     "output_type": "error",
     "traceback": [
      "\u001B[0;31m---------------------------------------------------------------------------\u001B[0m",
      "\u001B[0;31mIndexError\u001B[0m                                Traceback (most recent call last)",
      "\u001B[0;32m/var/folders/p3/58gq6hbd6r104wvr42fhpbm00000gn/T/ipykernel_83375/2458567459.py\u001B[0m in \u001B[0;36m<module>\u001B[0;34m\u001B[0m\n\u001B[1;32m      1\u001B[0m \u001B[0ml\u001B[0m \u001B[0;34m=\u001B[0m \u001B[0mrange\u001B[0m\u001B[0;34m(\u001B[0m\u001B[0;36m3\u001B[0m\u001B[0;34m)\u001B[0m\u001B[0;34m\u001B[0m\u001B[0;34m\u001B[0m\u001B[0m\n\u001B[1;32m      2\u001B[0m \u001B[0mprint\u001B[0m\u001B[0;34m(\u001B[0m\u001B[0ml\u001B[0m\u001B[0;34m)\u001B[0m\u001B[0;34m\u001B[0m\u001B[0;34m\u001B[0m\u001B[0m\n\u001B[0;32m----> 3\u001B[0;31m \u001B[0mprint\u001B[0m\u001B[0;34m(\u001B[0m\u001B[0ml\u001B[0m\u001B[0;34m[\u001B[0m\u001B[0;36m5\u001B[0m\u001B[0;34m]\u001B[0m\u001B[0;34m)\u001B[0m\u001B[0;34m\u001B[0m\u001B[0;34m\u001B[0m\u001B[0m\n\u001B[0m",
      "\u001B[0;31mIndexError\u001B[0m: range object index out of range"
     ]
    }
   ],
   "source": [
    "l = range(3)\n",
    "print(l)\n",
    "print(l[5])"
   ]
  },
  {
   "cell_type": "markdown",
   "metadata": {
    "pycharm": {
     "name": "#%% md\n"
    },
    "slideshow": {
     "slide_type": "slide"
    }
   },
   "source": [
    "# <span style=\"color:purple\">Try/Except Blocks</span>\n",
    "<br>\n",
    "<center><img src=\"figures/py_error.png\" width=\"50%\" style='border:5px solid #000000'/></center>"
   ]
  },
  {
   "cell_type": "markdown",
   "metadata": {
    "pycharm": {
     "name": "#%% md\n"
    },
    "slideshow": {
     "slide_type": "slide"
    }
   },
   "source": [
    "# <span style=\"color:purple\">4: Testing Code</span>\n",
    "<center><img src=\"figures/bug.jpg\" width=\"40%\" style='border:5px solid #000000'/></center>\n",
    "\n",
    " \n",
    "<span style=\"color:darkblue\">“More than the act of testing, the act of designing tests is one of the best bug preventers known. The thinking that must be done to create a useful test can discover and eliminate bugs before they are coded – indeed, test-design thinking can discover and eliminate bugs at every stage in the creation of software, from conception to specification, to design, coding and the rest.” (Boris Beizer)</span>"
   ]
  },
  {
   "cell_type": "markdown",
   "metadata": {
    "pycharm": {
     "name": "#%% md\n"
    },
    "slideshow": {
     "slide_type": "slide"
    }
   },
   "source": [
    "# <span style=\"color:purple\">Unit Testing</span>\n",
    "<br>\n",
    "<br>\n",
    "\n",
    "* Testing code (separate from application code) that invokes the code it tests to determine if there are any errors. \n",
    "* It does not prove code is correct, but rather reports if the conditions provided in the tester are handled correctly\n",
    "* Unit tests specifically test a single “unit” of the code in isolation.  For instance, testing a single class, function, module etc.\n",
    "* Three (logical) parts: (1) setup, (2) activate, (3) assert"
   ]
  },
  {
   "cell_type": "markdown",
   "metadata": {
    "pycharm": {
     "name": "#%% md\n"
    },
    "slideshow": {
     "slide_type": "slide"
    }
   },
   "source": [
    "```python\n",
    "@pytest.mark.parametrize(\"doc_num\", range(100))\n",
    "def test_extract_doclevel_form3_collection(test_form3):\n",
    "    \"\"\"\n",
    "    Validate Form3 extraction code against a random sample of documents\n",
    "    :param test_form3_collection:\n",
    "    :return:\n",
    "    \"\"\"\n",
    "    file = list(test_form3_collection.glob('*.txt'))[doc_num]\n",
    "    doc = (file)\n",
    "    assert doc.filename == file.name\n",
    "    fields = doc.doc_info \n",
    "    assert len(fields) == 19\n",
    "    assert fields[\"filename\"] == file.name\n",
    "    assert fields[\"schema_version\"] == \"X0206\"\n",
    "    assert fields[\"document_type\"] == \"3\"\n",
    "```"
   ]
  }
 ],
 "metadata": {
  "celltoolbar": "Slideshow",
  "kernelspec": {
   "display_name": "Python 3 (ipykernel)",
   "language": "python",
   "name": "python3"
  },
  "language_info": {
   "codemirror_mode": {
    "name": "ipython",
    "version": 3
   },
   "file_extension": ".py",
   "mimetype": "text/x-python",
   "name": "python",
   "nbconvert_exporter": "python",
   "pygments_lexer": "ipython3",
   "version": "3.7.12"
  },
  "nteract": {
   "version": "0.28.0"
  }
 },
 "nbformat": 4,
 "nbformat_minor": 4
}